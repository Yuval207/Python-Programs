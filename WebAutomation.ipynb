{
 "cells": [
  {
   "cell_type": "markdown",
   "id": "1f50edf0-9a8e-42a5-8069-97ec3af3a447",
   "metadata": {},
   "source": [
    "## Web Automation"
   ]
  },
  {
   "cell_type": "code",
   "execution_count": 1,
   "id": "8a8b61ac-b887-4fea-8b9e-f81d944547a6",
   "metadata": {},
   "outputs": [],
   "source": [
    "from selenium import webdriver\n",
    "from webdriver_manager.chrome import ChromeDriverManager\n",
    "from selenium.webdriver.common.keys import Keys\n",
    "from selenium.webdriver.common.by import By\n",
    "import random"
   ]
  },
  {
   "cell_type": "code",
   "execution_count": 2,
   "id": "544e7710-e5f1-4273-8d69-803acbf05682",
   "metadata": {
    "tags": []
   },
   "outputs": [
    {
     "name": "stderr",
     "output_type": "stream",
     "text": [
      "[WDM] - Downloading: 100%|████████████████████████████████████████████████████████| 6.21M/6.21M [00:00<00:00, 17.8MB/s]\n",
      "C:\\Users\\dell\\AppData\\Local\\Temp\\ipykernel_1268\\1889325130.py:1: DeprecationWarning: executable_path has been deprecated, please pass in a Service object\n",
      "  chrome = webdriver.Chrome(ChromeDriverManager().install())\n"
     ]
    }
   ],
   "source": [
    "chrome = webdriver.Chrome(ChromeDriverManager().install())"
   ]
  },
  {
   "cell_type": "code",
   "execution_count": 3,
   "id": "9490865f-649a-4397-a6c2-7bd5fc59f121",
   "metadata": {},
   "outputs": [],
   "source": [
    "chrome.get(\"https://web.whatsapp.com\")"
   ]
  },
  {
   "cell_type": "code",
   "execution_count": 9,
   "id": "c0e0e614-2356-4ec1-9850-b045a5800145",
   "metadata": {},
   "outputs": [],
   "source": [
    "search_box = chrome.find_element(By.CLASS_NAME,\"_13NKt\")\n",
    "search_box.send_keys(\"Vardaan\")\n",
    "search_box.send_keys(Keys.ENTER)"
   ]
  },
  {
   "cell_type": "code",
   "execution_count": 10,
   "id": "62016d60-08b1-4306-b9c2-bb225d4d6e9e",
   "metadata": {},
   "outputs": [],
   "source": [
    "msg = [\"ullu ke patthe\", \"behen ke pakode\", \"macchar ki jhaat\", \"tatto ke saudagar\", \"gandu\", \"dudhiye\" ,\"chaman chutiye\", \"bharosewaale\"]"
   ]
  },
  {
   "cell_type": "code",
   "execution_count": 11,
   "id": "4b2fa06d-18cc-423e-a8ef-0bee06184e3f",
   "metadata": {},
   "outputs": [],
   "source": [
    "msg2 = [\"hello\", \"Vardaan\", \"Pratham\", \"Rhythm\", \"Shubham\", \"Akaash\"]"
   ]
  },
  {
   "cell_type": "code",
   "execution_count": 12,
   "id": "8f287e10-55e0-47ec-93c4-b02efb45ebf8",
   "metadata": {},
   "outputs": [],
   "source": [
    "emoji = [\":-)\", \";-)\", \">_<\", \":-(\",\"^_^\"]"
   ]
  },
  {
   "cell_type": "code",
   "execution_count": 13,
   "id": "13e92050-597d-4eb7-9cdb-ea5997dece03",
   "metadata": {
    "tags": []
   },
   "outputs": [
    {
     "ename": "ElementNotInteractableException",
     "evalue": "Message: element not interactable\n  (Session info: chrome=104.0.5112.81)\nStacktrace:\nBacktrace:\n\tOrdinal0 [0x008378B3+2193587]\n\tOrdinal0 [0x007D0681+1771137]\n\tOrdinal0 [0x006E4070+802928]\n\tOrdinal0 [0x0070DB83+973699]\n\tOrdinal0 [0x0070CEF2+970482]\n\tOrdinal0 [0x0072D7AC+1103788]\n\tOrdinal0 [0x00708C04+953348]\n\tOrdinal0 [0x0072D9C4+1104324]\n\tOrdinal0 [0x0073DAE2+1170146]\n\tOrdinal0 [0x0072D5C6+1103302]\n\tOrdinal0 [0x007077E0+948192]\n\tOrdinal0 [0x007086E6+952038]\n\tGetHandleVerifier [0x00AE0CB2+2738370]\n\tGetHandleVerifier [0x00AD21B8+2678216]\n\tGetHandleVerifier [0x008C17AA+512954]\n\tGetHandleVerifier [0x008C0856+509030]\n\tOrdinal0 [0x007D743B+1799227]\n\tOrdinal0 [0x007DBB68+1817448]\n\tOrdinal0 [0x007DBC55+1817685]\n\tOrdinal0 [0x007E5230+1856048]\n\tBaseThreadInitThunk [0x75D9FA29+25]\n\tRtlGetAppContainerNamedObjectPath [0x77337A9E+286]\n\tRtlGetAppContainerNamedObjectPath [0x77337A6E+238]\n",
     "output_type": "error",
     "traceback": [
      "\u001b[1;31m---------------------------------------------------------------------------\u001b[0m",
      "\u001b[1;31mElementNotInteractableException\u001b[0m           Traceback (most recent call last)",
      "Input \u001b[1;32mIn [13]\u001b[0m, in \u001b[0;36m<cell line: 1>\u001b[1;34m()\u001b[0m\n\u001b[0;32m      2\u001b[0m message_box \u001b[38;5;241m=\u001b[39m chrome\u001b[38;5;241m.\u001b[39mfind_element(By\u001b[38;5;241m.\u001b[39mXPATH,\u001b[38;5;124m'\u001b[39m\u001b[38;5;124m//*[@id=\u001b[39m\u001b[38;5;124m\"\u001b[39m\u001b[38;5;124mmain\u001b[39m\u001b[38;5;124m\"\u001b[39m\u001b[38;5;124m]/footer/div[1]/div/span[2]/div/div[2]/div[1]/div/div[1]/p\u001b[39m\u001b[38;5;124m'\u001b[39m)\n\u001b[0;32m      3\u001b[0m message_box\u001b[38;5;241m.\u001b[39msend_keys(random\u001b[38;5;241m.\u001b[39mchoice(msg))\n\u001b[1;32m----> 4\u001b[0m \u001b[43mmessage_box\u001b[49m\u001b[38;5;241;43m.\u001b[39;49m\u001b[43msend_keys\u001b[49m\u001b[43m(\u001b[49m\u001b[43mKeys\u001b[49m\u001b[38;5;241;43m.\u001b[39;49m\u001b[43mENTER\u001b[49m\u001b[43m)\u001b[49m\n",
      "File \u001b[1;32m~\\AppData\\Roaming\\Python\\Python310\\site-packages\\selenium\\webdriver\\remote\\webelement.py:223\u001b[0m, in \u001b[0;36mWebElement.send_keys\u001b[1;34m(self, *value)\u001b[0m\n\u001b[0;32m    220\u001b[0m             remote_files\u001b[38;5;241m.\u001b[39mappend(\u001b[38;5;28mself\u001b[39m\u001b[38;5;241m.\u001b[39m_upload(file))\n\u001b[0;32m    221\u001b[0m         value \u001b[38;5;241m=\u001b[39m \u001b[38;5;124m'\u001b[39m\u001b[38;5;130;01m\\n\u001b[39;00m\u001b[38;5;124m'\u001b[39m\u001b[38;5;241m.\u001b[39mjoin(remote_files)\n\u001b[1;32m--> 223\u001b[0m \u001b[38;5;28;43mself\u001b[39;49m\u001b[38;5;241;43m.\u001b[39;49m\u001b[43m_execute\u001b[49m\u001b[43m(\u001b[49m\u001b[43mCommand\u001b[49m\u001b[38;5;241;43m.\u001b[39;49m\u001b[43mSEND_KEYS_TO_ELEMENT\u001b[49m\u001b[43m,\u001b[49m\n\u001b[0;32m    224\u001b[0m \u001b[43m              \u001b[49m\u001b[43m{\u001b[49m\u001b[38;5;124;43m'\u001b[39;49m\u001b[38;5;124;43mtext\u001b[39;49m\u001b[38;5;124;43m'\u001b[39;49m\u001b[43m:\u001b[49m\u001b[43m \u001b[49m\u001b[38;5;124;43m\"\u001b[39;49m\u001b[38;5;124;43m\"\u001b[39;49m\u001b[38;5;241;43m.\u001b[39;49m\u001b[43mjoin\u001b[49m\u001b[43m(\u001b[49m\u001b[43mkeys_to_typing\u001b[49m\u001b[43m(\u001b[49m\u001b[43mvalue\u001b[49m\u001b[43m)\u001b[49m\u001b[43m)\u001b[49m\u001b[43m,\u001b[49m\n\u001b[0;32m    225\u001b[0m \u001b[43m               \u001b[49m\u001b[38;5;124;43m'\u001b[39;49m\u001b[38;5;124;43mvalue\u001b[39;49m\u001b[38;5;124;43m'\u001b[39;49m\u001b[43m:\u001b[49m\u001b[43m \u001b[49m\u001b[43mkeys_to_typing\u001b[49m\u001b[43m(\u001b[49m\u001b[43mvalue\u001b[49m\u001b[43m)\u001b[49m\u001b[43m}\u001b[49m\u001b[43m)\u001b[49m\n",
      "File \u001b[1;32m~\\AppData\\Roaming\\Python\\Python310\\site-packages\\selenium\\webdriver\\remote\\webelement.py:396\u001b[0m, in \u001b[0;36mWebElement._execute\u001b[1;34m(self, command, params)\u001b[0m\n\u001b[0;32m    394\u001b[0m     params \u001b[38;5;241m=\u001b[39m {}\n\u001b[0;32m    395\u001b[0m params[\u001b[38;5;124m'\u001b[39m\u001b[38;5;124mid\u001b[39m\u001b[38;5;124m'\u001b[39m] \u001b[38;5;241m=\u001b[39m \u001b[38;5;28mself\u001b[39m\u001b[38;5;241m.\u001b[39m_id\n\u001b[1;32m--> 396\u001b[0m \u001b[38;5;28;01mreturn\u001b[39;00m \u001b[38;5;28;43mself\u001b[39;49m\u001b[38;5;241;43m.\u001b[39;49m\u001b[43m_parent\u001b[49m\u001b[38;5;241;43m.\u001b[39;49m\u001b[43mexecute\u001b[49m\u001b[43m(\u001b[49m\u001b[43mcommand\u001b[49m\u001b[43m,\u001b[49m\u001b[43m \u001b[49m\u001b[43mparams\u001b[49m\u001b[43m)\u001b[49m\n",
      "File \u001b[1;32m~\\AppData\\Roaming\\Python\\Python310\\site-packages\\selenium\\webdriver\\remote\\webdriver.py:434\u001b[0m, in \u001b[0;36mWebDriver.execute\u001b[1;34m(self, driver_command, params)\u001b[0m\n\u001b[0;32m    432\u001b[0m response \u001b[38;5;241m=\u001b[39m \u001b[38;5;28mself\u001b[39m\u001b[38;5;241m.\u001b[39mcommand_executor\u001b[38;5;241m.\u001b[39mexecute(driver_command, params)\n\u001b[0;32m    433\u001b[0m \u001b[38;5;28;01mif\u001b[39;00m response:\n\u001b[1;32m--> 434\u001b[0m     \u001b[38;5;28;43mself\u001b[39;49m\u001b[38;5;241;43m.\u001b[39;49m\u001b[43merror_handler\u001b[49m\u001b[38;5;241;43m.\u001b[39;49m\u001b[43mcheck_response\u001b[49m\u001b[43m(\u001b[49m\u001b[43mresponse\u001b[49m\u001b[43m)\u001b[49m\n\u001b[0;32m    435\u001b[0m     response[\u001b[38;5;124m'\u001b[39m\u001b[38;5;124mvalue\u001b[39m\u001b[38;5;124m'\u001b[39m] \u001b[38;5;241m=\u001b[39m \u001b[38;5;28mself\u001b[39m\u001b[38;5;241m.\u001b[39m_unwrap_value(\n\u001b[0;32m    436\u001b[0m         response\u001b[38;5;241m.\u001b[39mget(\u001b[38;5;124m'\u001b[39m\u001b[38;5;124mvalue\u001b[39m\u001b[38;5;124m'\u001b[39m, \u001b[38;5;28;01mNone\u001b[39;00m))\n\u001b[0;32m    437\u001b[0m     \u001b[38;5;28;01mreturn\u001b[39;00m response\n",
      "File \u001b[1;32m~\\AppData\\Roaming\\Python\\Python310\\site-packages\\selenium\\webdriver\\remote\\errorhandler.py:243\u001b[0m, in \u001b[0;36mErrorHandler.check_response\u001b[1;34m(self, response)\u001b[0m\n\u001b[0;32m    241\u001b[0m         alert_text \u001b[38;5;241m=\u001b[39m value[\u001b[38;5;124m'\u001b[39m\u001b[38;5;124malert\u001b[39m\u001b[38;5;124m'\u001b[39m]\u001b[38;5;241m.\u001b[39mget(\u001b[38;5;124m'\u001b[39m\u001b[38;5;124mtext\u001b[39m\u001b[38;5;124m'\u001b[39m)\n\u001b[0;32m    242\u001b[0m     \u001b[38;5;28;01mraise\u001b[39;00m exception_class(message, screen, stacktrace, alert_text)  \u001b[38;5;66;03m# type: ignore[call-arg]  # mypy is not smart enough here\u001b[39;00m\n\u001b[1;32m--> 243\u001b[0m \u001b[38;5;28;01mraise\u001b[39;00m exception_class(message, screen, stacktrace)\n",
      "\u001b[1;31mElementNotInteractableException\u001b[0m: Message: element not interactable\n  (Session info: chrome=104.0.5112.81)\nStacktrace:\nBacktrace:\n\tOrdinal0 [0x008378B3+2193587]\n\tOrdinal0 [0x007D0681+1771137]\n\tOrdinal0 [0x006E4070+802928]\n\tOrdinal0 [0x0070DB83+973699]\n\tOrdinal0 [0x0070CEF2+970482]\n\tOrdinal0 [0x0072D7AC+1103788]\n\tOrdinal0 [0x00708C04+953348]\n\tOrdinal0 [0x0072D9C4+1104324]\n\tOrdinal0 [0x0073DAE2+1170146]\n\tOrdinal0 [0x0072D5C6+1103302]\n\tOrdinal0 [0x007077E0+948192]\n\tOrdinal0 [0x007086E6+952038]\n\tGetHandleVerifier [0x00AE0CB2+2738370]\n\tGetHandleVerifier [0x00AD21B8+2678216]\n\tGetHandleVerifier [0x008C17AA+512954]\n\tGetHandleVerifier [0x008C0856+509030]\n\tOrdinal0 [0x007D743B+1799227]\n\tOrdinal0 [0x007DBB68+1817448]\n\tOrdinal0 [0x007DBC55+1817685]\n\tOrdinal0 [0x007E5230+1856048]\n\tBaseThreadInitThunk [0x75D9FA29+25]\n\tRtlGetAppContainerNamedObjectPath [0x77337A9E+286]\n\tRtlGetAppContainerNamedObjectPath [0x77337A6E+238]\n"
     ]
    }
   ],
   "source": [
    "for i in range(0,100):\n",
    "    message_box = chrome.find_element(By.XPATH,'//*[@id=\"main\"]/footer/div[1]/div/span[2]/div/div[2]/div[1]/div/div[1]/p')\n",
    "    message_box.send_keys(random.choice(msg))\n",
    "    message_box.send_keys(Keys.ENTER)"
   ]
  },
  {
   "cell_type": "code",
   "execution_count": null,
   "id": "157e5d0b-dbf8-4017-91f3-91aad678f9ad",
   "metadata": {},
   "outputs": [],
   "source": []
  }
 ],
 "metadata": {
  "kernelspec": {
   "display_name": "Python 3 (ipykernel)",
   "language": "python",
   "name": "python3"
  },
  "language_info": {
   "codemirror_mode": {
    "name": "ipython",
    "version": 3
   },
   "file_extension": ".py",
   "mimetype": "text/x-python",
   "name": "python",
   "nbconvert_exporter": "python",
   "pygments_lexer": "ipython3",
   "version": "3.10.6"
  }
 },
 "nbformat": 4,
 "nbformat_minor": 5
}
