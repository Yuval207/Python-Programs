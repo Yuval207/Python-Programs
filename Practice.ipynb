{
 "cells": [
  {
   "cell_type": "code",
   "execution_count": 1,
   "id": "585d5be5-de28-41bb-93be-49b2a76c6c1c",
   "metadata": {},
   "outputs": [
    {
     "name": "stdout",
     "output_type": "stream",
     "text": [
      "Wall time: 0 ns\n"
     ]
    }
   ],
   "source": [
    "time pass\n"
   ]
  },
  {
   "cell_type": "code",
   "execution_count": 2,
   "id": "0df00919-f372-4f40-b86c-d8e7ef79b1f4",
   "metadata": {},
   "outputs": [],
   "source": [
    "import time"
   ]
  },
  {
   "cell_type": "code",
   "execution_count": 4,
   "id": "9c087144-bcaf-4bab-8ca6-70b8b938e6a1",
   "metadata": {},
   "outputs": [
    {
     "data": {
      "text/plain": [
       "\u001b[1;31mType:\u001b[0m        int\n",
       "\u001b[1;31mString form:\u001b[0m -23400\n",
       "\u001b[1;31mDocstring:\u001b[0m  \n",
       "int([x]) -> integer\n",
       "int(x, base=10) -> integer\n",
       "\n",
       "Convert a number or string to an integer, or return 0 if no arguments\n",
       "are given.  If x is a number, return x.__int__().  For floating point\n",
       "numbers, this truncates towards zero.\n",
       "\n",
       "If x is not a number or if base is given, then x must be a string,\n",
       "bytes, or bytearray instance representing an integer literal in the\n",
       "given base.  The literal can be preceded by '+' or '-' and be surrounded\n",
       "by whitespace.  The base defaults to 10.  Valid bases are 0 and 2-36.\n",
       "Base 0 means to interpret the base from the string as an integer literal.\n",
       ">>> int('0b100', base=0)\n",
       "4\n"
      ]
     },
     "metadata": {},
     "output_type": "display_data"
    }
   ],
   "source": [
    "time.altzone?"
   ]
  },
  {
   "cell_type": "code",
   "execution_count": 22,
   "id": "0136d685-955d-4d50-aadc-cba71f3eb1fd",
   "metadata": {},
   "outputs": [],
   "source": [
    "a = [1,23,3,4,69]\n",
    "a.reverse()"
   ]
  },
  {
   "cell_type": "code",
   "execution_count": 23,
   "id": "f6156d2e-11d1-4aff-b6a6-14f74f8ef145",
   "metadata": {},
   "outputs": [
    {
     "name": "stdout",
     "output_type": "stream",
     "text": [
      "[69, 4, 3, 23, 1]\n"
     ]
    }
   ],
   "source": [
    "\n",
    "print(a)"
   ]
  },
  {
   "cell_type": "code",
   "execution_count": 24,
   "id": "8051ee08-5b12-4a5f-8ff2-a27934413535",
   "metadata": {},
   "outputs": [
    {
     "name": "stdout",
     "output_type": "stream",
     "text": [
      "[23, 23, 3, 23, 1]\n"
     ]
    }
   ],
   "source": [
    "n = len(a)\n",
    "for i in range(0,n//2):\n",
    "    a[i] = a[n-2]\n",
    "print(a)\n",
    "    "
   ]
  },
  {
   "cell_type": "code",
   "execution_count": 27,
   "id": "b9cbaeef-7f74-46cc-ba94-f11e30cc3dc3",
   "metadata": {},
   "outputs": [
    {
     "name": "stdout",
     "output_type": "stream",
     "text": [
      "[69, 4, 3, 23, 1]\n"
     ]
    }
   ],
   "source": [
    "def reverse_list(arr):\n",
    "\tleft = 0\n",
    "\tright = len(arr)-1\n",
    "\twhile (left < right):\n",
    "\t\ttemp = arr[left]\n",
    "\t\tarr[left] = arr[right]\n",
    "\t\tarr[right] = temp\n",
    "\t\tleft += 1\n",
    "\t\tright -= 1\n",
    "\n",
    "\treturn arr\n",
    "\n",
    "arr = [1, 23,3,4,69]\n",
    "print(reverse_list(arr))\n"
   ]
  },
  {
   "cell_type": "code",
   "execution_count": 3,
   "id": "913aeaff-1070-4223-93a7-2f65a637b031",
   "metadata": {},
   "outputs": [
    {
     "name": "stdin",
     "output_type": "stream",
     "text": [
      "Enter the number of test cases: 2\n",
      "Enter the number: 10\n"
     ]
    },
    {
     "name": "stdout",
     "output_type": "stream",
     "text": [
      "Next palindrome for 10 is 11\n"
     ]
    },
    {
     "name": "stdin",
     "output_type": "stream",
     "text": [
      "Enter the number: 121121\n"
     ]
    },
    {
     "name": "stdout",
     "output_type": "stream",
     "text": [
      "Already a palindrome\n",
      "Next palindrome for 121121 is 121121\n"
     ]
    }
   ],
   "source": [
    "#Next palindrome\n",
    "t = int(input(\"Enter the number of test cases:\"))\n",
    "while(t>0):\n",
    "    n = int(input(\"Enter the number:\"))\n",
    "    s=str(n)\n",
    "    if(s == s[::-1]):\n",
    "        print(\"Already a palindrome\")\n",
    "        pass\n",
    "    for i in range(n, n*10):\n",
    "        s2 = str(i)\n",
    "        if(s2 == s2[::-1]):\n",
    "            print(f\"Next palindrome for {n} is\", int(s2))\n",
    "            break\n",
    "    t-=1"
   ]
  },
  {
   "cell_type": "code",
   "execution_count": 3,
   "id": "9f49d0b5-7d60-4a89-9e32-2827078d1649",
   "metadata": {
    "collapsed": true,
    "jupyter": {
     "outputs_hidden": true
    },
    "tags": []
   },
   "outputs": [
    {
     "ename": "ModuleNotFoundError",
     "evalue": "No module named 'mediapipe'",
     "output_type": "error",
     "traceback": [
      "\u001b[1;31m---------------------------------------------------------------------------\u001b[0m",
      "\u001b[1;31mModuleNotFoundError\u001b[0m                       Traceback (most recent call last)",
      "\u001b[1;32m~\\AppData\\Local\\Temp\\ipykernel_3992\\543715661.py\u001b[0m in \u001b[0;36m<module>\u001b[1;34m\u001b[0m\n\u001b[0;32m      1\u001b[0m \u001b[1;32mimport\u001b[0m \u001b[0mcv2\u001b[0m\u001b[1;33m\u001b[0m\u001b[1;33m\u001b[0m\u001b[0m\n\u001b[1;32m----> 2\u001b[1;33m \u001b[1;32mfrom\u001b[0m \u001b[0mcvzone\u001b[0m\u001b[1;33m.\u001b[0m\u001b[0mHandTrackingModule\u001b[0m \u001b[1;32mimport\u001b[0m \u001b[0mHandDetector\u001b[0m\u001b[1;33m\u001b[0m\u001b[1;33m\u001b[0m\u001b[0m\n\u001b[0m\u001b[0;32m      3\u001b[0m \u001b[1;32mfrom\u001b[0m \u001b[0mtime\u001b[0m \u001b[1;32mimport\u001b[0m \u001b[0msleep\u001b[0m\u001b[1;33m\u001b[0m\u001b[1;33m\u001b[0m\u001b[0m\n\u001b[0;32m      4\u001b[0m \u001b[1;32mimport\u001b[0m \u001b[0mcvzone\u001b[0m\u001b[1;33m\u001b[0m\u001b[1;33m\u001b[0m\u001b[0m\n\u001b[0;32m      5\u001b[0m \u001b[1;32mfrom\u001b[0m \u001b[0mpynput\u001b[0m\u001b[1;33m.\u001b[0m\u001b[0mkeyboard\u001b[0m \u001b[1;32mimport\u001b[0m \u001b[0mController\u001b[0m\u001b[1;33m\u001b[0m\u001b[1;33m\u001b[0m\u001b[0m\n",
      "\u001b[1;32m~\\anaconda3\\lib\\site-packages\\cvzone\\HandTrackingModule.py\u001b[0m in \u001b[0;36m<module>\u001b[1;34m\u001b[0m\n\u001b[0;32m      6\u001b[0m \u001b[1;33m\u001b[0m\u001b[0m\n\u001b[0;32m      7\u001b[0m \u001b[1;32mimport\u001b[0m \u001b[0mcv2\u001b[0m\u001b[1;33m\u001b[0m\u001b[1;33m\u001b[0m\u001b[0m\n\u001b[1;32m----> 8\u001b[1;33m \u001b[1;32mimport\u001b[0m \u001b[0mmediapipe\u001b[0m \u001b[1;32mas\u001b[0m \u001b[0mmp\u001b[0m\u001b[1;33m\u001b[0m\u001b[1;33m\u001b[0m\u001b[0m\n\u001b[0m\u001b[0;32m      9\u001b[0m \u001b[1;32mimport\u001b[0m \u001b[0mmath\u001b[0m\u001b[1;33m\u001b[0m\u001b[1;33m\u001b[0m\u001b[0m\n\u001b[0;32m     10\u001b[0m \u001b[1;33m\u001b[0m\u001b[0m\n",
      "\u001b[1;31mModuleNotFoundError\u001b[0m: No module named 'mediapipe'"
     ]
    }
   ],
   "source": [
    "import cv2\n",
    "from cvzone.HandTrackingModule import HandDetector\n",
    "from time import sleep\n",
    "import cvzone\n",
    "from pynput.keyboard import Controller\n",
    "\n",
    "cap = cv2.VideoCapture(0)\n",
    "cap.set(3, 1280)\n",
    "cap.set(4, 720)\n",
    "\n",
    "detector = HandDetector(detectionCon=0.8)\n",
    "keys = [[\"Q\", \"W\", \"E\", \"R\", \"T\", \"Y\", \"U\", \"I\", \"O\", \"P\"],\n",
    "        [\"A\", \"S\", \"D\", \"F\", \"G\", \"H\", \"J\", \"K\", \"L\", \";\"],\n",
    "        [\"Z\", \"X\", \"C\", \"V\", \"B\", \"N\", \"M\", \",\", \".\", \" \"]]\n",
    "finalText = \"\"\n",
    "\n",
    "keyboard = Controller()\n",
    "\n",
    "\n",
    "def drawAll(img, buttonList):\n",
    "    for button in buttonList:\n",
    "        x, y = button.pos\n",
    "        w, h = button.size\n",
    "        cvzone.cornerRect(img, (x, y, w, h),\n",
    "                          20, rt=0)\n",
    "        cv2.rectangle(img, button.pos, (x + w, y + h), (255, 0, 255), cv2.FILLED)\n",
    "        cv2.putText(img, button.text, (x + 20, y + 65),\n",
    "                    cv2.FONT_HERSHEY_PLAIN, 4, (255, 255, 255), 4)\n",
    "    return img\n",
    "\n",
    "class Button():\n",
    "    def __init__(self, pos, text, size=[85, 85]):\n",
    "        self.pos = pos\n",
    "        self.size = size\n",
    "        self.text = text\n",
    "\n",
    "\n",
    "buttonList = []\n",
    "for i in range(len(keys)):\n",
    "    for j, key in enumerate(keys[i]):\n",
    "        buttonList.append(Button([100 * j + 50, 100 * i + 50], key))\n",
    "\n",
    "while True:\n",
    "    success, img = cap.read()\n",
    "    img = cv2.flip(img, 1)\n",
    "    img = detector.findHands(img)\n",
    "    lmList, bboxInfo = detector.findPosition(img)\n",
    "    img = drawAll(img, buttonList)\n",
    "\n",
    "    if lmList:\n",
    "        for button in buttonList:\n",
    "            x, y = button.pos\n",
    "            w, h = button.size\n",
    "\n",
    "            if x < lmList[8][0] < x + w and y < lmList[8][1] < y + h:\n",
    "                cv2.rectangle(img, (x - 5, y - 5), (x + w + 5, y + h + 5), (175, 0, 175), cv2.FILLED)\n",
    "                cv2.putText(img, button.text, (x + 20, y + 65),\n",
    "                            cv2.FONT_HERSHEY_PLAIN, 4, (255, 255, 255), 4)\n",
    "                l, _, _ = detector.findDistance(8, 12, img, draw=False)\n",
    "                print(l)\n",
    "\n",
    "                ## when clicked\n",
    "                if l < 31:\n",
    "                    keyboard.press(button.text)\n",
    "                    cv2.rectangle(img, button.pos, (x + w, y + h), (0, 255, 0), cv2.FILLED)\n",
    "                    cv2.putText(img, button.text, (x + 20, y + 65),\n",
    "                                cv2.FONT_HERSHEY_PLAIN, 4, (255, 255, 255), 4)\n",
    "                    finalText += button.text\n",
    "                    sleep(0.8)\n",
    "    cv2.rectangle(img, (50, 350), (700, 450), (175, 0, 175), cv2.FILLED)\n",
    "    cv2.putText(img, finalText, (60, 430),\n",
    "                cv2.FONT_HERSHEY_PLAIN, 5, (255, 255, 255), 5)\n",
    "\n",
    "    cv2.imshow(\"Image\", img)\n",
    "    cv2.waitKey(1)"
   ]
  },
  {
   "cell_type": "code",
   "execution_count": null,
   "id": "3e38f4ca-949b-410e-8270-db16fc153f1d",
   "metadata": {},
   "outputs": [],
   "source": []
  }
 ],
 "metadata": {
  "kernelspec": {
   "display_name": "Python 3 (ipykernel)",
   "language": "python",
   "name": "python3"
  },
  "language_info": {
   "codemirror_mode": {
    "name": "ipython",
    "version": 3
   },
   "file_extension": ".py",
   "mimetype": "text/x-python",
   "name": "python",
   "nbconvert_exporter": "python",
   "pygments_lexer": "ipython3",
   "version": "3.9.13"
  }
 },
 "nbformat": 4,
 "nbformat_minor": 5
}
