{
 "cells": [
  {
   "cell_type": "code",
   "execution_count": 1,
   "id": "585d5be5-de28-41bb-93be-49b2a76c6c1c",
   "metadata": {},
   "outputs": [
    {
     "name": "stdout",
     "output_type": "stream",
     "text": [
      "Wall time: 0 ns\n"
     ]
    }
   ],
   "source": [
    "time pass\n"
   ]
  },
  {
   "cell_type": "code",
   "execution_count": 2,
   "id": "0df00919-f372-4f40-b86c-d8e7ef79b1f4",
   "metadata": {},
   "outputs": [],
   "source": [
    "import time"
   ]
  },
  {
   "cell_type": "code",
   "execution_count": 4,
   "id": "9c087144-bcaf-4bab-8ca6-70b8b938e6a1",
   "metadata": {},
   "outputs": [
    {
     "data": {
      "text/plain": [
       "\u001b[1;31mType:\u001b[0m        int\n",
       "\u001b[1;31mString form:\u001b[0m -23400\n",
       "\u001b[1;31mDocstring:\u001b[0m  \n",
       "int([x]) -> integer\n",
       "int(x, base=10) -> integer\n",
       "\n",
       "Convert a number or string to an integer, or return 0 if no arguments\n",
       "are given.  If x is a number, return x.__int__().  For floating point\n",
       "numbers, this truncates towards zero.\n",
       "\n",
       "If x is not a number or if base is given, then x must be a string,\n",
       "bytes, or bytearray instance representing an integer literal in the\n",
       "given base.  The literal can be preceded by '+' or '-' and be surrounded\n",
       "by whitespace.  The base defaults to 10.  Valid bases are 0 and 2-36.\n",
       "Base 0 means to interpret the base from the string as an integer literal.\n",
       ">>> int('0b100', base=0)\n",
       "4\n"
      ]
     },
     "metadata": {},
     "output_type": "display_data"
    }
   ],
   "source": [
    "time.altzone?"
   ]
  },
  {
   "cell_type": "code",
   "execution_count": 22,
   "id": "0136d685-955d-4d50-aadc-cba71f3eb1fd",
   "metadata": {},
   "outputs": [],
   "source": [
    "a = [1,23,3,4,69]\n",
    "a.reverse()"
   ]
  },
  {
   "cell_type": "code",
   "execution_count": 23,
   "id": "f6156d2e-11d1-4aff-b6a6-14f74f8ef145",
   "metadata": {},
   "outputs": [
    {
     "name": "stdout",
     "output_type": "stream",
     "text": [
      "[69, 4, 3, 23, 1]\n"
     ]
    }
   ],
   "source": [
    "\n",
    "print(a)"
   ]
  },
  {
   "cell_type": "code",
   "execution_count": 24,
   "id": "8051ee08-5b12-4a5f-8ff2-a27934413535",
   "metadata": {},
   "outputs": [
    {
     "name": "stdout",
     "output_type": "stream",
     "text": [
      "[23, 23, 3, 23, 1]\n"
     ]
    }
   ],
   "source": [
    "n = len(a)\n",
    "for i in range(0,n//2):\n",
    "    a[i] = a[n-2]\n",
    "print(a)\n",
    "    "
   ]
  },
  {
   "cell_type": "code",
   "execution_count": 27,
   "id": "b9cbaeef-7f74-46cc-ba94-f11e30cc3dc3",
   "metadata": {},
   "outputs": [
    {
     "name": "stdout",
     "output_type": "stream",
     "text": [
      "[69, 4, 3, 23, 1]\n"
     ]
    }
   ],
   "source": [
    "def reverse_list(arr):\n",
    "\tleft = 0\n",
    "\tright = len(arr)-1\n",
    "\twhile (left < right):\n",
    "\t\ttemp = arr[left]\n",
    "\t\tarr[left] = arr[right]\n",
    "\t\tarr[right] = temp\n",
    "\t\tleft += 1\n",
    "\t\tright -= 1\n",
    "\n",
    "\treturn arr\n",
    "\n",
    "arr = [1, 23,3,4,69]\n",
    "print(reverse_list(arr))\n"
   ]
  },
  {
   "cell_type": "code",
   "execution_count": 3,
   "id": "913aeaff-1070-4223-93a7-2f65a637b031",
   "metadata": {},
   "outputs": [
    {
     "name": "stdin",
     "output_type": "stream",
     "text": [
      "Enter the number of test cases: 2\n",
      "Enter the number: 10\n"
     ]
    },
    {
     "name": "stdout",
     "output_type": "stream",
     "text": [
      "Next palindrome for 10 is 11\n"
     ]
    },
    {
     "name": "stdin",
     "output_type": "stream",
     "text": [
      "Enter the number: 121121\n"
     ]
    },
    {
     "name": "stdout",
     "output_type": "stream",
     "text": [
      "Already a palindrome\n",
      "Next palindrome for 121121 is 121121\n"
     ]
    }
   ],
   "source": [
    "#Next palindrome\n",
    "t = int(input(\"Enter the number of test cases:\"))\n",
    "while(t>0):\n",
    "    n = int(input(\"Enter the number:\"))\n",
    "    s=str(n)\n",
    "    if(s == s[::-1]):\n",
    "        print(\"Already a palindrome\")\n",
    "        pass\n",
    "    for i in range(n, n*10):\n",
    "        s2 = str(i)\n",
    "        if(s2 == s2[::-1]):\n",
    "            print(f\"Next palindrome for {n} is\", int(s2))\n",
    "            break\n",
    "    t-=1"
   ]
  },
  {
   "cell_type": "code",
   "execution_count": null,
   "id": "9f49d0b5-7d60-4a89-9e32-2827078d1649",
   "metadata": {},
   "outputs": [],
   "source": []
  }
 ],
 "metadata": {
  "kernelspec": {
   "display_name": "Python 3 (ipykernel)",
   "language": "python",
   "name": "python3"
  },
  "language_info": {
   "codemirror_mode": {
    "name": "ipython",
    "version": 3
   },
   "file_extension": ".py",
   "mimetype": "text/x-python",
   "name": "python",
   "nbconvert_exporter": "python",
   "pygments_lexer": "ipython3",
   "version": "3.9.13"
  }
 },
 "nbformat": 4,
 "nbformat_minor": 5
}
