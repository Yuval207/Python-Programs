{
 "cells": [
  {
   "cell_type": "code",
   "execution_count": 69,
   "id": "67dd96e9-9ff2-4d0d-9131-0710c09428be",
   "metadata": {},
   "outputs": [],
   "source": [
    "import numpy as np"
   ]
  },
  {
   "cell_type": "code",
   "execution_count": 2,
   "id": "a44bc693-99d7-4aaa-8fd6-b118da259338",
   "metadata": {},
   "outputs": [],
   "source": [
    "a = [1, 2, 5, 59, 69]"
   ]
  },
  {
   "cell_type": "code",
   "execution_count": 3,
   "id": "b6b82566-7891-4e01-8554-33b86817c249",
   "metadata": {},
   "outputs": [],
   "source": [
    "arr = np.array(a)"
   ]
  },
  {
   "cell_type": "code",
   "execution_count": 4,
   "id": "43b5b3e7-8eb3-4605-a354-5aa8b88eb38d",
   "metadata": {},
   "outputs": [
    {
     "data": {
      "text/plain": [
       "array([ 1,  2,  5, 59, 69])"
      ]
     },
     "execution_count": 4,
     "metadata": {},
     "output_type": "execute_result"
    }
   ],
   "source": [
    "arr"
   ]
  },
  {
   "cell_type": "code",
   "execution_count": 5,
   "id": "c2af7d05-1a1b-46a4-83a5-2179acf40b75",
   "metadata": {},
   "outputs": [
    {
     "data": {
      "text/plain": [
       "(5,)"
      ]
     },
     "execution_count": 5,
     "metadata": {},
     "output_type": "execute_result"
    }
   ],
   "source": [
    "arr.shape"
   ]
  },
  {
   "cell_type": "code",
   "execution_count": 6,
   "id": "f75c3761-ce95-41a7-b9bd-d52fd5898040",
   "metadata": {},
   "outputs": [
    {
     "data": {
      "text/plain": [
       "dtype('int32')"
      ]
     },
     "execution_count": 6,
     "metadata": {},
     "output_type": "execute_result"
    }
   ],
   "source": [
    "arr.dtype"
   ]
  },
  {
   "cell_type": "markdown",
   "id": "e9b7f0b7-5b4c-4ace-9f32-8ec0f046fa4b",
   "metadata": {},
   "source": [
    "## Array creation methods"
   ]
  },
  {
   "cell_type": "code",
   "execution_count": 7,
   "id": "9a19b872-5caf-45c8-b848-94764e47775b",
   "metadata": {},
   "outputs": [],
   "source": [
    "listarray = np.array([[1 ,2, 3], [4, 5, 6], [7, 8, 9]])"
   ]
  },
  {
   "cell_type": "code",
   "execution_count": 8,
   "id": "55473da7-ea0a-4742-8e30-4cabc0177254",
   "metadata": {},
   "outputs": [
    {
     "data": {
      "text/plain": [
       "(3, 3)"
      ]
     },
     "execution_count": 8,
     "metadata": {},
     "output_type": "execute_result"
    }
   ],
   "source": [
    "listarray.shape"
   ]
  },
  {
   "cell_type": "code",
   "execution_count": 9,
   "id": "7bc4f386-741e-4f6c-b2ea-39dc39a55aa6",
   "metadata": {},
   "outputs": [
    {
     "data": {
      "text/plain": [
       "9"
      ]
     },
     "execution_count": 9,
     "metadata": {},
     "output_type": "execute_result"
    }
   ],
   "source": [
    "listarray.size"
   ]
  },
  {
   "cell_type": "code",
   "execution_count": 10,
   "id": "e4f1d0fd-3d60-41d6-a832-e1a0dcbcf2f0",
   "metadata": {},
   "outputs": [
    {
     "data": {
      "text/plain": [
       "array({88, 99, 78}, dtype=object)"
      ]
     },
     "execution_count": 10,
     "metadata": {},
     "output_type": "execute_result"
    }
   ],
   "source": [
    "np.array({88, 78, 99})"
   ]
  },
  {
   "cell_type": "code",
   "execution_count": 11,
   "id": "f06553ac-5b3a-415e-a3a5-7d897f8c6647",
   "metadata": {},
   "outputs": [],
   "source": [
    "zeroes = np.zeros((2, 5))"
   ]
  },
  {
   "cell_type": "code",
   "execution_count": 12,
   "id": "232e8828-b0bb-4738-bf03-8a2786a1c904",
   "metadata": {},
   "outputs": [
    {
     "data": {
      "text/plain": [
       "array([[0., 0., 0., 0., 0.],\n",
       "       [0., 0., 0., 0., 0.]])"
      ]
     },
     "execution_count": 12,
     "metadata": {},
     "output_type": "execute_result"
    }
   ],
   "source": [
    "zeroes"
   ]
  },
  {
   "cell_type": "code",
   "execution_count": 13,
   "id": "1cc84aa7-1e36-4788-8fc3-ea5857306c18",
   "metadata": {},
   "outputs": [
    {
     "data": {
      "text/plain": [
       "array([0, 1, 2, 3, 4, 5, 6, 7, 8])"
      ]
     },
     "execution_count": 13,
     "metadata": {},
     "output_type": "execute_result"
    }
   ],
   "source": [
    "np.arange(9)"
   ]
  },
  {
   "cell_type": "code",
   "execution_count": 14,
   "id": "f14e2f7f-e4bd-4c86-a50c-511ea9e7c57b",
   "metadata": {},
   "outputs": [],
   "source": [
    "lspace = np.linspace(1, 2, 5)"
   ]
  },
  {
   "cell_type": "code",
   "execution_count": 15,
   "id": "b9f97139-9926-4848-9bd5-b39231373d81",
   "metadata": {},
   "outputs": [
    {
     "data": {
      "text/plain": [
       "array([1.  , 1.25, 1.5 , 1.75, 2.  ])"
      ]
     },
     "execution_count": 15,
     "metadata": {},
     "output_type": "execute_result"
    }
   ],
   "source": [
    "lspace"
   ]
  },
  {
   "cell_type": "code",
   "execution_count": 16,
   "id": "6af0603a-3586-4762-b44e-594059a2f024",
   "metadata": {},
   "outputs": [
    {
     "data": {
      "text/plain": [
       "array([[6.23042070e-307, 4.67296746e-307, 1.69121096e-306,\n",
       "        1.24610994e-306, 1.33511018e-306, 1.33511969e-306],\n",
       "       [6.23037996e-307, 6.23053954e-307, 9.34609790e-307,\n",
       "        8.45593934e-307, 9.34600963e-307, 1.86921143e-306],\n",
       "       [6.23061763e-307, 8.90104239e-307, 6.89804132e-307,\n",
       "        1.22387465e-307, 1.42418172e-306, 2.04712906e-306],\n",
       "       [7.56589622e-307, 1.11258277e-307, 8.90111708e-307,\n",
       "        3.22643519e-307, 9.79103798e-307, 2.46155235e-312]])"
      ]
     },
     "execution_count": 16,
     "metadata": {},
     "output_type": "execute_result"
    }
   ],
   "source": [
    "np.empty((4, 6))  #Gives random array"
   ]
  },
  {
   "cell_type": "code",
   "execution_count": 17,
   "id": "ad1d6d32-e2cf-4a1b-9b2f-3682ad2968c6",
   "metadata": {},
   "outputs": [],
   "source": [
    "emp_like = np.empty_like(lspace)"
   ]
  },
  {
   "cell_type": "code",
   "execution_count": 18,
   "id": "ca7cf626-edeb-460f-b3e2-27679070725e",
   "metadata": {},
   "outputs": [
    {
     "data": {
      "text/plain": [
       "array([1.  , 1.25, 1.5 , 1.75, 2.  ])"
      ]
     },
     "execution_count": 18,
     "metadata": {},
     "output_type": "execute_result"
    }
   ],
   "source": [
    "emp_like"
   ]
  },
  {
   "cell_type": "code",
   "execution_count": 19,
   "id": "bc631286-f49b-4d67-b077-891c01ff1d72",
   "metadata": {},
   "outputs": [
    {
     "name": "stdout",
     "output_type": "stream",
     "text": [
      "[[1. 0. 0. ... 0. 0. 0.]\n",
      " [0. 1. 0. ... 0. 0. 0.]\n",
      " [0. 0. 1. ... 0. 0. 0.]\n",
      " ...\n",
      " [0. 0. 0. ... 1. 0. 0.]\n",
      " [0. 0. 0. ... 0. 1. 0.]\n",
      " [0. 0. 0. ... 0. 0. 1.]]\n"
     ]
    }
   ],
   "source": [
    "#Gives identity matrix of given order\n",
    "\n",
    "ide = np.identity(45)\n",
    "print(ide)"
   ]
  },
  {
   "cell_type": "code",
   "execution_count": 20,
   "id": "a457283f-5ff5-4877-b866-8fc293ddb2b0",
   "metadata": {},
   "outputs": [],
   "source": [
    "arr = np.arange(36)"
   ]
  },
  {
   "cell_type": "code",
   "execution_count": 21,
   "id": "0a4e39a1-4b89-4083-a5e8-76fce119aa18",
   "metadata": {},
   "outputs": [
    {
     "data": {
      "text/plain": [
       "array([ 0,  1,  2,  3,  4,  5,  6,  7,  8,  9, 10, 11, 12, 13, 14, 15, 16,\n",
       "       17, 18, 19, 20, 21, 22, 23, 24, 25, 26, 27, 28, 29, 30, 31, 32, 33,\n",
       "       34, 35])"
      ]
     },
     "execution_count": 21,
     "metadata": {},
     "output_type": "execute_result"
    }
   ],
   "source": [
    "arr"
   ]
  },
  {
   "cell_type": "code",
   "execution_count": 22,
   "id": "2bbe2899-2f50-463b-888a-93d8b7e90ad3",
   "metadata": {},
   "outputs": [
    {
     "data": {
      "text/plain": [
       "array([[ 0,  1,  2,  3,  4,  5,  6,  7,  8,  9, 10, 11],\n",
       "       [12, 13, 14, 15, 16, 17, 18, 19, 20, 21, 22, 23],\n",
       "       [24, 25, 26, 27, 28, 29, 30, 31, 32, 33, 34, 35]])"
      ]
     },
     "execution_count": 22,
     "metadata": {},
     "output_type": "execute_result"
    }
   ],
   "source": [
    "arr.reshape(3, 12) "
   ]
  },
  {
   "cell_type": "code",
   "execution_count": 23,
   "id": "ce790a6f-0fb3-43a0-9f62-5838f9ec36c4",
   "metadata": {},
   "outputs": [],
   "source": [
    "# Makes the given array 1 dimensional\n",
    "arr = arr.ravel()"
   ]
  },
  {
   "cell_type": "code",
   "execution_count": 24,
   "id": "4405a6d5-510d-4937-a7b3-cdbdc57eebb5",
   "metadata": {},
   "outputs": [
    {
     "data": {
      "text/plain": [
       "array([ 0,  1,  2,  3,  4,  5,  6,  7,  8,  9, 10, 11, 12, 13, 14, 15, 16,\n",
       "       17, 18, 19, 20, 21, 22, 23, 24, 25, 26, 27, 28, 29, 30, 31, 32, 33,\n",
       "       34, 35])"
      ]
     },
     "execution_count": 24,
     "metadata": {},
     "output_type": "execute_result"
    }
   ],
   "source": [
    "arr"
   ]
  },
  {
   "cell_type": "code",
   "execution_count": 25,
   "id": "92e4c190-1ed0-41ac-8fd4-57ae406fbdae",
   "metadata": {},
   "outputs": [],
   "source": [
    "x = np.array([[1, 2, 3], [4, 5, 6], [9, 8, 77]])"
   ]
  },
  {
   "cell_type": "code",
   "execution_count": 26,
   "id": "2650c0cd-918f-4e04-9d39-190dc4da7a92",
   "metadata": {},
   "outputs": [
    {
     "data": {
      "text/plain": [
       "115"
      ]
     },
     "execution_count": 26,
     "metadata": {},
     "output_type": "execute_result"
    }
   ],
   "source": [
    "x.sum()"
   ]
  },
  {
   "cell_type": "code",
   "execution_count": 27,
   "id": "e3ca1631-1f01-4885-9fc3-66218e7847b3",
   "metadata": {},
   "outputs": [
    {
     "data": {
      "text/plain": [
       "array([14, 15, 86])"
      ]
     },
     "execution_count": 27,
     "metadata": {},
     "output_type": "execute_result"
    }
   ],
   "source": [
    "x.sum(axis = 0)"
   ]
  },
  {
   "cell_type": "code",
   "execution_count": 28,
   "id": "e29202dc-c311-4a7f-a925-4a82f3935a70",
   "metadata": {},
   "outputs": [],
   "source": [
    "x = x.T"
   ]
  },
  {
   "cell_type": "code",
   "execution_count": 29,
   "id": "7777242f-e2db-4288-9493-647c871107a3",
   "metadata": {},
   "outputs": [
    {
     "data": {
      "text/plain": [
       "array([[ 1,  4,  9],\n",
       "       [ 2,  5,  8],\n",
       "       [ 3,  6, 77]])"
      ]
     },
     "execution_count": 29,
     "metadata": {},
     "output_type": "execute_result"
    }
   ],
   "source": [
    "x"
   ]
  },
  {
   "cell_type": "code",
   "execution_count": 30,
   "id": "dc0c6fe5-75f3-4909-994d-8581aa9f2575",
   "metadata": {
    "collapsed": true,
    "jupyter": {
     "outputs_hidden": true
    },
    "tags": []
   },
   "outputs": [
    {
     "data": {
      "text/plain": [
       "\u001b[1;31mType:\u001b[0m        flatiter\n",
       "\u001b[1;31mString form:\u001b[0m <numpy.flatiter object at 0x000001D01D15D190>\n",
       "\u001b[1;31mLength:\u001b[0m      9\n",
       "\u001b[1;31mFile:\u001b[0m        c:\\users\\dell\\anaconda3\\lib\\site-packages\\numpy\\__init__.py\n",
       "\u001b[1;31mDocstring:\u001b[0m  \n",
       "Flat iterator object to iterate over arrays.\n",
       "\n",
       "A `flatiter` iterator is returned by ``x.flat`` for any array `x`.\n",
       "It allows iterating over the array as if it were a 1-D array,\n",
       "either in a for-loop or by calling its `next` method.\n",
       "\n",
       "Iteration is done in row-major, C-style order (the last\n",
       "index varying the fastest). The iterator can also be indexed using\n",
       "basic slicing or advanced indexing.\n",
       "\n",
       "See Also\n",
       "--------\n",
       "ndarray.flat : Return a flat iterator over an array.\n",
       "ndarray.flatten : Returns a flattened copy of an array.\n",
       "\n",
       "Notes\n",
       "-----\n",
       "A `flatiter` iterator can not be constructed directly from Python code\n",
       "by calling the `flatiter` constructor.\n",
       "\n",
       "Examples\n",
       "--------\n",
       ">>> x = np.arange(6).reshape(2, 3)\n",
       ">>> fl = x.flat\n",
       ">>> type(fl)\n",
       "<class 'numpy.flatiter'>\n",
       ">>> for item in fl:\n",
       "...     print(item)\n",
       "...\n",
       "0\n",
       "1\n",
       "2\n",
       "3\n",
       "4\n",
       "5\n",
       "\n",
       ">>> fl[2:4]\n",
       "array([2, 3])\n"
      ]
     },
     "metadata": {},
     "output_type": "display_data"
    }
   ],
   "source": [
    "x.flat?"
   ]
  },
  {
   "cell_type": "code",
   "execution_count": 31,
   "id": "351779a8-9abe-4634-9e05-38c3f0db2207",
   "metadata": {},
   "outputs": [],
   "source": [
    "it = x.flat"
   ]
  },
  {
   "cell_type": "code",
   "execution_count": 32,
   "id": "acca5ce6-983a-48f6-add1-d79651e36647",
   "metadata": {},
   "outputs": [
    {
     "data": {
      "text/plain": [
       "<numpy.flatiter at 0x1d01d15d190>"
      ]
     },
     "execution_count": 32,
     "metadata": {},
     "output_type": "execute_result"
    }
   ],
   "source": [
    "it"
   ]
  },
  {
   "cell_type": "code",
   "execution_count": 33,
   "id": "b9d1a297-9141-4868-9712-fbabd702b8c1",
   "metadata": {},
   "outputs": [
    {
     "name": "stdout",
     "output_type": "stream",
     "text": [
      "1\n",
      "4\n",
      "9\n",
      "2\n",
      "5\n",
      "8\n",
      "3\n",
      "6\n",
      "77\n"
     ]
    }
   ],
   "source": [
    "for ele in it:\n",
    "    print(ele)"
   ]
  },
  {
   "cell_type": "code",
   "execution_count": 34,
   "id": "fd081256-e05f-4ff6-bb29-1787389a94d6",
   "metadata": {},
   "outputs": [
    {
     "data": {
      "text/plain": [
       "2"
      ]
     },
     "execution_count": 34,
     "metadata": {},
     "output_type": "execute_result"
    }
   ],
   "source": [
    "x.ndim #gives dimension of the array"
   ]
  },
  {
   "cell_type": "code",
   "execution_count": 35,
   "id": "8cf92c2b-4b67-4cf0-bbe0-0fceb8b20243",
   "metadata": {},
   "outputs": [],
   "source": [
    "one = np.array([1, 5, 44, 8, 7, 99, 0])"
   ]
  },
  {
   "cell_type": "code",
   "execution_count": 36,
   "id": "03dc1af0-15c8-43ca-ac63-2c00cd9b672b",
   "metadata": {},
   "outputs": [
    {
     "name": "stdout",
     "output_type": "stream",
     "text": [
      "6\n"
     ]
    },
    {
     "data": {
      "text/plain": [
       "5"
      ]
     },
     "execution_count": 36,
     "metadata": {},
     "output_type": "execute_result"
    }
   ],
   "source": [
    "#returns the index of the maximum and minimum element in the array\n",
    "print(one.argmin())\n",
    "one.argmax()"
   ]
  },
  {
   "cell_type": "code",
   "execution_count": 37,
   "id": "4cb37a4a-737f-4cf1-9a2d-adb440efa5e4",
   "metadata": {},
   "outputs": [
    {
     "data": {
      "text/plain": [
       "array([6, 0, 1, 4, 3, 2, 5], dtype=int64)"
      ]
     },
     "execution_count": 37,
     "metadata": {},
     "output_type": "execute_result"
    }
   ],
   "source": [
    "#returns a array of indexes of sorted array\n",
    "one.argsort()"
   ]
  },
  {
   "cell_type": "code",
   "execution_count": 38,
   "id": "3c3fa8a9-2361-44f1-9140-744bbbc5cbb6",
   "metadata": {},
   "outputs": [
    {
     "data": {
      "text/plain": [
       "0"
      ]
     },
     "execution_count": 38,
     "metadata": {},
     "output_type": "execute_result"
    }
   ],
   "source": [
    "x.argmin()"
   ]
  },
  {
   "cell_type": "code",
   "execution_count": 39,
   "id": "63231bdc-71bc-4e93-8436-53166688d355",
   "metadata": {},
   "outputs": [
    {
     "data": {
      "text/plain": [
       "8"
      ]
     },
     "execution_count": 39,
     "metadata": {},
     "output_type": "execute_result"
    }
   ],
   "source": [
    "x.argmax()"
   ]
  },
  {
   "cell_type": "code",
   "execution_count": 40,
   "id": "d4d376e6-8847-48aa-8e19-84573e000e99",
   "metadata": {},
   "outputs": [
    {
     "data": {
      "text/plain": [
       "array([2, 2, 2], dtype=int64)"
      ]
     },
     "execution_count": 40,
     "metadata": {},
     "output_type": "execute_result"
    }
   ],
   "source": [
    "x.argmax(axis = 0)"
   ]
  },
  {
   "cell_type": "code",
   "execution_count": 41,
   "id": "20c8f864-536a-4e2d-8380-59ca6ac405e2",
   "metadata": {},
   "outputs": [
    {
     "data": {
      "text/plain": [
       "array([[0, 1, 2],\n",
       "       [0, 1, 2],\n",
       "       [0, 1, 2]], dtype=int64)"
      ]
     },
     "execution_count": 41,
     "metadata": {},
     "output_type": "execute_result"
    }
   ],
   "source": [
    "x.argsort()"
   ]
  },
  {
   "cell_type": "code",
   "execution_count": 42,
   "id": "e0b2c629-3033-4351-9199-9ea3a59b70c7",
   "metadata": {},
   "outputs": [
    {
     "data": {
      "text/plain": [
       "array([[ 1],\n",
       "       [ 5],\n",
       "       [44],\n",
       "       [ 8],\n",
       "       [ 7],\n",
       "       [99],\n",
       "       [ 0]])"
      ]
     },
     "execution_count": 42,
     "metadata": {},
     "output_type": "execute_result"
    }
   ],
   "source": [
    "one.reshape(7, 1)"
   ]
  },
  {
   "cell_type": "code",
   "execution_count": 43,
   "id": "fd4a5d13-1012-403c-9513-4b80ffe057d1",
   "metadata": {},
   "outputs": [
    {
     "data": {
      "text/plain": [
       "array([[  2,   6,  12],\n",
       "       [  6,  10,  14],\n",
       "       [ 12,  14, 154]])"
      ]
     },
     "execution_count": 43,
     "metadata": {},
     "output_type": "execute_result"
    }
   ],
   "source": [
    "x+x.T"
   ]
  },
  {
   "cell_type": "code",
   "execution_count": 44,
   "id": "bf612381-e3b2-451f-843f-e7614c1c803b",
   "metadata": {},
   "outputs": [
    {
     "data": {
      "text/plain": [
       "array([[   1,    8,   27],\n",
       "       [   8,   25,   48],\n",
       "       [  27,   48, 5929]])"
      ]
     },
     "execution_count": 44,
     "metadata": {},
     "output_type": "execute_result"
    }
   ],
   "source": [
    "x*x.T"
   ]
  },
  {
   "cell_type": "code",
   "execution_count": 45,
   "id": "cdb6798f-e31a-4866-aa43-1c0454aa4e36",
   "metadata": {},
   "outputs": [
    {
     "data": {
      "text/plain": [
       "array([[1.        , 2.        , 3.        ],\n",
       "       [1.41421356, 2.23606798, 2.82842712],\n",
       "       [1.73205081, 2.44948974, 8.77496439]])"
      ]
     },
     "execution_count": 45,
     "metadata": {},
     "output_type": "execute_result"
    }
   ],
   "source": [
    "np.sqrt(x)"
   ]
  },
  {
   "cell_type": "code",
   "execution_count": 46,
   "id": "353fb323-8fa8-4ab2-aade-72cb07948f8b",
   "metadata": {},
   "outputs": [
    {
     "data": {
      "text/plain": [
       "(array([0, 0, 1, 1, 2, 2, 2], dtype=int64),\n",
       " array([1, 2, 1, 2, 0, 1, 2], dtype=int64))"
      ]
     },
     "execution_count": 46,
     "metadata": {},
     "output_type": "execute_result"
    }
   ],
   "source": [
    "np.where(x>2)"
   ]
  },
  {
   "cell_type": "code",
   "execution_count": 47,
   "id": "bcac1592-c138-4048-9f21-69becec372fe",
   "metadata": {},
   "outputs": [
    {
     "data": {
      "text/plain": [
       "9"
      ]
     },
     "execution_count": 47,
     "metadata": {},
     "output_type": "execute_result"
    }
   ],
   "source": [
    "np.count_nonzero(x)"
   ]
  },
  {
   "cell_type": "code",
   "execution_count": 48,
   "id": "5e0bda67-12ca-4981-8177-0e5a4cc54037",
   "metadata": {},
   "outputs": [
    {
     "data": {
      "text/plain": [
       "(array([0, 0, 0, 1, 1, 1, 2, 2, 2], dtype=int64),\n",
       " array([0, 1, 2, 0, 1, 2, 0, 1, 2], dtype=int64))"
      ]
     },
     "execution_count": 48,
     "metadata": {},
     "output_type": "execute_result"
    }
   ],
   "source": [
    "np.nonzero(x)"
   ]
  },
  {
   "cell_type": "code",
   "execution_count": 49,
   "id": "debb5a5f-a503-4af3-bd0e-eefea46e6bc2",
   "metadata": {},
   "outputs": [],
   "source": [
    "import sys"
   ]
  },
  {
   "cell_type": "code",
   "execution_count": 50,
   "id": "33d1c3db-f9eb-4c36-ad83-09a8a6a4b7f6",
   "metadata": {},
   "outputs": [],
   "source": [
    "py_ar = [0, 4, 5, 6]\n",
    "\n",
    "np_ar = np.array(py_ar)"
   ]
  },
  {
   "cell_type": "code",
   "execution_count": 51,
   "id": "0f775da1-a3d3-4c4f-8844-776d6cf8030a",
   "metadata": {},
   "outputs": [
    {
     "data": {
      "text/plain": [
       "112"
      ]
     },
     "execution_count": 51,
     "metadata": {},
     "output_type": "execute_result"
    }
   ],
   "source": [
    "sys.getsizeof(1) * len(py_ar)"
   ]
  },
  {
   "cell_type": "code",
   "execution_count": 52,
   "id": "1b230d47-d06e-4efa-a4d4-ace09e765270",
   "metadata": {},
   "outputs": [
    {
     "data": {
      "text/plain": [
       "16"
      ]
     },
     "execution_count": 52,
     "metadata": {},
     "output_type": "execute_result"
    }
   ],
   "source": [
    "np_ar.itemsize * np_ar.size"
   ]
  },
  {
   "cell_type": "code",
   "execution_count": 53,
   "id": "6cc65370-dcbe-46b6-b992-0dbe77b9c7ff",
   "metadata": {},
   "outputs": [],
   "source": [
    "b = np.array([[[1, 3], [9, 5], [78, 67]]])"
   ]
  },
  {
   "cell_type": "code",
   "execution_count": 54,
   "id": "df7d3065-2110-4a72-b398-f11ddf0fee34",
   "metadata": {},
   "outputs": [
    {
     "data": {
      "text/plain": [
       "array([[[ 1,  3],\n",
       "        [ 9,  5],\n",
       "        [78, 67]]])"
      ]
     },
     "execution_count": 54,
     "metadata": {},
     "output_type": "execute_result"
    }
   ],
   "source": [
    "b"
   ]
  },
  {
   "cell_type": "code",
   "execution_count": 55,
   "id": "a8c6800d-43b7-4cbd-8bb6-5f04c0ae7634",
   "metadata": {},
   "outputs": [
    {
     "data": {
      "text/plain": [
       "5"
      ]
     },
     "execution_count": 55,
     "metadata": {},
     "output_type": "execute_result"
    }
   ],
   "source": [
    "b[0, 1, 1]"
   ]
  },
  {
   "cell_type": "code",
   "execution_count": 56,
   "id": "ecde645b-8f6d-4aea-a18c-549d9f365198",
   "metadata": {},
   "outputs": [
    {
     "data": {
      "text/plain": [
       "array([[69, 69, 69, 69],\n",
       "       [69, 69, 69, 69]])"
      ]
     },
     "execution_count": 56,
     "metadata": {},
     "output_type": "execute_result"
    }
   ],
   "source": [
    "np.full((2, 4), 69)"
   ]
  },
  {
   "cell_type": "code",
   "execution_count": 57,
   "id": "4ec45532-e848-4854-9cd2-f8db48e34d98",
   "metadata": {},
   "outputs": [
    {
     "data": {
      "text/plain": [
       "array([[0.45576342, 0.42995609, 0.56907712],\n",
       "       [0.55429748, 0.64461334, 0.13994524],\n",
       "       [0.28947512, 0.84910342, 0.52271081],\n",
       "       [0.27018617, 0.14770999, 0.35972268]])"
      ]
     },
     "execution_count": 57,
     "metadata": {},
     "output_type": "execute_result"
    }
   ],
   "source": [
    "np.random.rand(4,3)"
   ]
  },
  {
   "cell_type": "code",
   "execution_count": 58,
   "id": "031d5ebb-9297-4685-a29d-a47b9fd5c3d7",
   "metadata": {},
   "outputs": [
    {
     "data": {
      "text/plain": [
       "array([[0, 3, 0],\n",
       "       [1, 6, 3],\n",
       "       [6, 5, 1]])"
      ]
     },
     "execution_count": 58,
     "metadata": {},
     "output_type": "execute_result"
    }
   ],
   "source": [
    "np.random.randint(7, size=(3, 3))"
   ]
  },
  {
   "cell_type": "code",
   "execution_count": 59,
   "id": "ec6fa542-96ee-4486-ab63-1b2f1edb7dbc",
   "metadata": {},
   "outputs": [],
   "source": [
    "a1 = np.repeat(b, 2)"
   ]
  },
  {
   "cell_type": "code",
   "execution_count": 60,
   "id": "c2b24cf2-179c-4633-8cc4-a0f94cef88b5",
   "metadata": {},
   "outputs": [
    {
     "data": {
      "text/plain": [
       "array([ 1,  1,  3,  3,  9,  9,  5,  5, 78, 78, 67, 67])"
      ]
     },
     "execution_count": 60,
     "metadata": {},
     "output_type": "execute_result"
    }
   ],
   "source": [
    "a1"
   ]
  },
  {
   "cell_type": "code",
   "execution_count": 61,
   "id": "d4c19903-5b4c-4be3-aff6-df9c396ee301",
   "metadata": {},
   "outputs": [
    {
     "name": "stdout",
     "output_type": "stream",
     "text": [
      "[[1. 1. 1. 1. 1.]\n",
      " [1. 1. 1. 1. 1.]\n",
      " [1. 1. 1. 1. 1.]\n",
      " [1. 1. 1. 1. 1.]\n",
      " [1. 1. 1. 1. 1.]]\n",
      "[[0. 0. 0.]\n",
      " [0. 9. 0.]\n",
      " [0. 0. 0.]]\n",
      "[[1. 1. 1. 1. 1.]\n",
      " [1. 0. 0. 0. 1.]\n",
      " [1. 0. 9. 0. 1.]\n",
      " [1. 0. 0. 0. 1.]\n",
      " [1. 1. 1. 1. 1.]]\n"
     ]
    }
   ],
   "source": [
    "output = np.ones((5,5))\n",
    "print(output)\n",
    "\n",
    "z = np.zeros((3,3))\n",
    "z[1,1] = 9\n",
    "print(z)\n",
    "\n",
    "output[1:-1,1:-1] = z\n",
    "print(output)"
   ]
  },
  {
   "cell_type": "markdown",
   "id": "8b7dfd28-e741-424d-bb1a-2e1b8827a58a",
   "metadata": {},
   "source": [
    "## Linear Algebra"
   ]
  },
  {
   "cell_type": "code",
   "execution_count": 62,
   "id": "1acbc9bf-4760-4393-8063-9a44da3948c0",
   "metadata": {},
   "outputs": [
    {
     "name": "stdout",
     "output_type": "stream",
     "text": [
      "[[1. 1. 1.]\n",
      " [1. 1. 1.]]\n",
      "[[2 2]\n",
      " [2 2]\n",
      " [2 2]]\n"
     ]
    },
    {
     "data": {
      "text/plain": [
       "array([[6., 6.],\n",
       "       [6., 6.]])"
      ]
     },
     "execution_count": 62,
     "metadata": {},
     "output_type": "execute_result"
    }
   ],
   "source": [
    "a = np.ones((2,3))\n",
    "print(a)\n",
    "\n",
    "b = np.full((3,2), 2)\n",
    "print(b)\n",
    "\n",
    "np.matmul(a,b)"
   ]
  },
  {
   "cell_type": "code",
   "execution_count": 63,
   "id": "b94524cf-e8b6-4529-b48d-347682310964",
   "metadata": {},
   "outputs": [
    {
     "data": {
      "text/plain": [
       "1.0"
      ]
     },
     "execution_count": 63,
     "metadata": {},
     "output_type": "execute_result"
    }
   ],
   "source": [
    "# Find the determinant\n",
    "c = np.identity(3)\n",
    "np.linalg.det(c)"
   ]
  },
  {
   "cell_type": "code",
   "execution_count": 64,
   "id": "292b155c-eff8-46dc-87c6-344a6d698dd3",
   "metadata": {},
   "outputs": [],
   "source": [
    "## Reference docs (https://docs.scipy.org/doc/numpy/reference/routines.linalg.html)\n",
    "\n",
    "# Determinant\n",
    "# Trace\n",
    "# Singular Vector Decomposition\n",
    "# Eigenvalues\n",
    "# Matrix Norm\n",
    "# Inverse\n",
    "# Etc..."
   ]
  },
  {
   "cell_type": "code",
   "execution_count": 65,
   "id": "437ca65a-6a2b-417e-b97a-674fb2f4fb5f",
   "metadata": {},
   "outputs": [
    {
     "data": {
      "text/plain": [
       "array([[1, 2, 3, 4],\n",
       "       [5, 6, 7, 8],\n",
       "       [1, 2, 3, 4],\n",
       "       [5, 6, 7, 8]])"
      ]
     },
     "execution_count": 65,
     "metadata": {},
     "output_type": "execute_result"
    }
   ],
   "source": [
    "# Vertically stacking vectors\n",
    "v1 = np.array([1,2,3,4])\n",
    "v2 = np.array([5,6,7,8])\n",
    "\n",
    "np.vstack([v1,v2,v1,v2])"
   ]
  },
  {
   "cell_type": "code",
   "execution_count": 66,
   "id": "6d4f4562-e346-48d8-8374-bde1eb97f25d",
   "metadata": {},
   "outputs": [
    {
     "data": {
      "text/plain": [
       "array([[1., 1., 1., 1., 0., 0.],\n",
       "       [1., 1., 1., 1., 0., 0.]])"
      ]
     },
     "execution_count": 66,
     "metadata": {},
     "output_type": "execute_result"
    }
   ],
   "source": [
    "# Horizontal  stack\n",
    "h1 = np.ones((2,4))\n",
    "h2 = np.zeros((2,2))\n",
    "\n",
    "np.hstack((h1,h2))"
   ]
  },
  {
   "cell_type": "code",
   "execution_count": 67,
   "id": "e44f29e8-3dd3-4540-b30c-f567d004e91a",
   "metadata": {},
   "outputs": [
    {
     "name": "stdout",
     "output_type": "stream",
     "text": [
      "[[  1  13  21  11 196  75   4   3  34   6   7   8   0   1   2   3   4   5]\n",
      " [  3  42  12  33 766  75   4  55   6   4   3   4   5   6   7   0  11  12]\n",
      " [  1  22  33  11 999  11   2   1  78   0   1   2   9   8   7   1  76  88]]\n"
     ]
    }
   ],
   "source": [
    "filedata = np.genfromtxt('data.txt', delimiter=',')\n",
    "filedata = filedata.astype('int32')\n",
    "print(filedata)"
   ]
  },
  {
   "cell_type": "code",
   "execution_count": 68,
   "id": "9996e381-8239-4322-aa68-24ef4e6d2979",
   "metadata": {},
   "outputs": [
    {
     "data": {
      "text/plain": [
       "array([[ True,  True,  True,  True,  True, False,  True,  True,  True,\n",
       "         True,  True,  True,  True,  True,  True,  True,  True,  True],\n",
       "       [ True,  True,  True,  True,  True, False,  True, False,  True,\n",
       "         True,  True,  True,  True,  True,  True,  True,  True,  True],\n",
       "       [ True,  True,  True,  True,  True,  True,  True,  True, False,\n",
       "         True,  True,  True,  True,  True,  True,  True, False, False]])"
      ]
     },
     "execution_count": 68,
     "metadata": {},
     "output_type": "execute_result"
    }
   ],
   "source": [
    "(~((filedata > 50) & (filedata < 100)))"
   ]
  },
  {
   "cell_type": "code",
   "execution_count": 70,
   "id": "b63f8f59-d66b-4ce1-8136-521e7a8cbbc9",
   "metadata": {},
   "outputs": [],
   "source": [
    "a = np.random.randint(10, size=(3,3))"
   ]
  },
  {
   "cell_type": "code",
   "execution_count": 71,
   "id": "db4a5534-30fe-44aa-bc4c-eadf66518ce5",
   "metadata": {},
   "outputs": [
    {
     "data": {
      "text/plain": [
       "array([[7, 8, 0],\n",
       "       [1, 2, 1],\n",
       "       [3, 1, 0]])"
      ]
     },
     "execution_count": 71,
     "metadata": {},
     "output_type": "execute_result"
    }
   ],
   "source": [
    "a"
   ]
  },
  {
   "cell_type": "code",
   "execution_count": 75,
   "id": "d8a3243f-3b61-417e-982a-e7b4bf001b00",
   "metadata": {},
   "outputs": [
    {
     "name": "stdout",
     "output_type": "stream",
     "text": [
      "[[8 0]\n",
      " [2 1]]\n"
     ]
    }
   ],
   "source": [
    "print(a[:2, 1:])"
   ]
  }
 ],
 "metadata": {
  "kernelspec": {
   "display_name": "Python 3 (ipykernel)",
   "language": "python",
   "name": "python3"
  },
  "language_info": {
   "codemirror_mode": {
    "name": "ipython",
    "version": 3
   },
   "file_extension": ".py",
   "mimetype": "text/x-python",
   "name": "python",
   "nbconvert_exporter": "python",
   "pygments_lexer": "ipython3",
   "version": "3.9.13"
  }
 },
 "nbformat": 4,
 "nbformat_minor": 5
}
