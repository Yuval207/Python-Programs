{
 "cells": [
  {
   "cell_type": "code",
   "execution_count": null,
   "id": "89604a46",
   "metadata": {},
   "outputs": [],
   "source": [
    "#some normal fuctions"
   ]
  },
  {
   "cell_type": "code",
   "execution_count": 1,
   "id": "2e40d31c",
   "metadata": {},
   "outputs": [],
   "source": [
    "def func():\n",
    "    print(\"Hello World\")"
   ]
  },
  {
   "cell_type": "code",
   "execution_count": 3,
   "id": "890f734c",
   "metadata": {},
   "outputs": [
    {
     "name": "stdout",
     "output_type": "stream",
     "text": [
      "Hello World\n"
     ]
    }
   ],
   "source": [
    "func()"
   ]
  },
  {
   "cell_type": "code",
   "execution_count": 3,
   "id": "2d7ae2e8",
   "metadata": {},
   "outputs": [],
   "source": [
    "def sum1(a, b):\n",
    "    return a + b"
   ]
  },
  {
   "cell_type": "code",
   "execution_count": 7,
   "id": "03bc2e1c",
   "metadata": {},
   "outputs": [
    {
     "data": {
      "text/plain": [
       "41"
      ]
     },
     "execution_count": 7,
     "metadata": {},
     "output_type": "execute_result"
    }
   ],
   "source": [
    "sum1(32, 9)"
   ]
  },
  {
   "cell_type": "code",
   "execution_count": 8,
   "id": "f98a2181",
   "metadata": {},
   "outputs": [],
   "source": [
    "#Lambda function: If we have small body of a fuction then we use lambda funtion\n",
    "\n",
    "#Syntax -> lambda parameters: body"
   ]
  },
  {
   "cell_type": "code",
   "execution_count": 9,
   "id": "8bd31344",
   "metadata": {},
   "outputs": [],
   "source": [
    "sum2 = lambda a, b: a + b"
   ]
  },
  {
   "cell_type": "code",
   "execution_count": 10,
   "id": "5efbe912",
   "metadata": {},
   "outputs": [
    {
     "data": {
      "text/plain": [
       "1000"
      ]
     },
     "execution_count": 10,
     "metadata": {},
     "output_type": "execute_result"
    }
   ],
   "source": [
    "sum2(1, 999)"
   ]
  },
  {
   "cell_type": "code",
   "execution_count": 15,
   "id": "36ddd7ed",
   "metadata": {},
   "outputs": [],
   "source": [
    "#Map-function: Applies a given fucntion to each element of the iterable"
   ]
  },
  {
   "cell_type": "code",
   "execution_count": 8,
   "id": "aeaaa509",
   "metadata": {},
   "outputs": [
    {
     "data": {
      "text/plain": [
       "\u001b[1;31mInit signature:\u001b[0m \u001b[0mfilter\u001b[0m\u001b[1;33m(\u001b[0m\u001b[0mself\u001b[0m\u001b[1;33m,\u001b[0m \u001b[1;33m/\u001b[0m\u001b[1;33m,\u001b[0m \u001b[1;33m*\u001b[0m\u001b[0margs\u001b[0m\u001b[1;33m,\u001b[0m \u001b[1;33m**\u001b[0m\u001b[0mkwargs\u001b[0m\u001b[1;33m)\u001b[0m\u001b[1;33m\u001b[0m\u001b[1;33m\u001b[0m\u001b[0m\n",
       "\u001b[1;31mDocstring:\u001b[0m     \n",
       "filter(function or None, iterable) --> filter object\n",
       "\n",
       "Return an iterator yielding those items of iterable for which function(item)\n",
       "is true. If function is None, return the items that are true.\n",
       "\u001b[1;31mType:\u001b[0m           type\n",
       "\u001b[1;31mSubclasses:\u001b[0m     \n"
      ]
     },
     "metadata": {},
     "output_type": "display_data"
    }
   ],
   "source": [
    "#filter-function: filters the output\n",
    "filter?"
   ]
  },
  {
   "cell_type": "code",
   "execution_count": null,
   "id": "5d7a534a",
   "metadata": {},
   "outputs": [],
   "source": []
  }
 ],
 "metadata": {
  "kernelspec": {
   "display_name": "Python 3 (ipykernel)",
   "language": "python",
   "name": "python3"
  },
  "language_info": {
   "codemirror_mode": {
    "name": "ipython",
    "version": 3
   },
   "file_extension": ".py",
   "mimetype": "text/x-python",
   "name": "python",
   "nbconvert_exporter": "python",
   "pygments_lexer": "ipython3",
   "version": "3.10.6"
  }
 },
 "nbformat": 4,
 "nbformat_minor": 5
}
