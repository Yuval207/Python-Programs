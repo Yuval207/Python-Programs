{
 "cells": [
  {
   "cell_type": "code",
   "execution_count": null,
   "id": "89604a46",
   "metadata": {},
   "outputs": [],
   "source": [
    "#some normal fuctions"
   ]
  },
  {
   "cell_type": "markdown",
   "id": "8e821bb7-984d-4a5b-b5fc-b5d37a67ae16",
   "metadata": {
    "tags": []
   },
   "source": [
    "### Decorator"
   ]
  },
  {
   "cell_type": "code",
   "execution_count": 1,
   "id": "2e40d31c",
   "metadata": {},
   "outputs": [],
   "source": [
    "def func():\n",
    "    print(\"Hello World\")"
   ]
  },
  {
   "cell_type": "code",
   "execution_count": 2,
   "id": "890f734c",
   "metadata": {},
   "outputs": [
    {
     "name": "stdout",
     "output_type": "stream",
     "text": [
      "Hello World\n"
     ]
    }
   ],
   "source": [
    "func()"
   ]
  },
  {
   "cell_type": "code",
   "execution_count": 3,
   "id": "2d7ae2e8",
   "metadata": {},
   "outputs": [],
   "source": [
    "def sum1(a, b):\n",
    "    return a + b"
   ]
  },
  {
   "cell_type": "code",
   "execution_count": 4,
   "id": "03bc2e1c",
   "metadata": {},
   "outputs": [
    {
     "data": {
      "text/plain": [
       "41"
      ]
     },
     "execution_count": 4,
     "metadata": {},
     "output_type": "execute_result"
    }
   ],
   "source": [
    "sum1(32, 9)"
   ]
  },
  {
   "cell_type": "code",
   "execution_count": 5,
   "id": "f98a2181",
   "metadata": {},
   "outputs": [],
   "source": [
    "#Lambda function: If we have small body of a fuction then we use lambda funtion\n",
    "\n",
    "#Syntax -> lambda parameters: body"
   ]
  },
  {
   "cell_type": "code",
   "execution_count": 6,
   "id": "8bd31344",
   "metadata": {},
   "outputs": [],
   "source": [
    "sum2 = lambda a, b: a + b"
   ]
  },
  {
   "cell_type": "code",
   "execution_count": 7,
   "id": "5efbe912",
   "metadata": {},
   "outputs": [
    {
     "data": {
      "text/plain": [
       "1000"
      ]
     },
     "execution_count": 7,
     "metadata": {},
     "output_type": "execute_result"
    }
   ],
   "source": [
    "sum2(1, 999)"
   ]
  },
  {
   "cell_type": "code",
   "execution_count": 8,
   "id": "36ddd7ed",
   "metadata": {},
   "outputs": [],
   "source": [
    "#Map-function: Applies a given fucntion to each element of the iterable"
   ]
  },
  {
   "cell_type": "code",
   "execution_count": 9,
   "id": "aeaaa509",
   "metadata": {},
   "outputs": [
    {
     "data": {
      "text/plain": [
       "\u001b[1;31mInit signature:\u001b[0m \u001b[0mfilter\u001b[0m\u001b[1;33m(\u001b[0m\u001b[0mself\u001b[0m\u001b[1;33m,\u001b[0m \u001b[1;33m/\u001b[0m\u001b[1;33m,\u001b[0m \u001b[1;33m*\u001b[0m\u001b[0margs\u001b[0m\u001b[1;33m,\u001b[0m \u001b[1;33m**\u001b[0m\u001b[0mkwargs\u001b[0m\u001b[1;33m)\u001b[0m\u001b[1;33m\u001b[0m\u001b[1;33m\u001b[0m\u001b[0m\n",
       "\u001b[1;31mDocstring:\u001b[0m     \n",
       "filter(function or None, iterable) --> filter object\n",
       "\n",
       "Return an iterator yielding those items of iterable for which function(item)\n",
       "is true. If function is None, return the items that are true.\n",
       "\u001b[1;31mType:\u001b[0m           type\n",
       "\u001b[1;31mSubclasses:\u001b[0m     \n"
      ]
     },
     "metadata": {},
     "output_type": "display_data"
    }
   ],
   "source": [
    "#filter-function: filters the output\n",
    "filter?"
   ]
  },
  {
   "cell_type": "code",
   "execution_count": 10,
   "id": "5d7a534a",
   "metadata": {},
   "outputs": [
    {
     "name": "stdout",
     "output_type": "stream",
     "text": [
      "Function to check if the number is even or odd\n"
     ]
    }
   ],
   "source": [
    "# A simple Python function to check\n",
    "# whether x is even or odd\n",
    "\n",
    "\n",
    "def evenOdd(x):\n",
    "\t\"\"\"Function to check if the number is even or odd\"\"\"\n",
    "\t\n",
    "\tif (x % 2 == 0):\n",
    "\t\tprint(\"even\")\n",
    "\telse:\n",
    "\t\tprint(\"odd\")\n",
    "\n",
    "\n",
    "# Driver code to call the function\n",
    "print(evenOdd.__doc__)\n"
   ]
  },
  {
   "cell_type": "markdown",
   "id": "13cd6e5d-b956-4c04-b503-591161d25825",
   "metadata": {},
   "source": [
    "## Args and Kwargs"
   ]
  },
  {
   "cell_type": "code",
   "execution_count": 11,
   "id": "236437e3-666c-4a23-baca-0d96945c443f",
   "metadata": {},
   "outputs": [],
   "source": [
    "# *args receives arguments as a tuple.\n",
    "# **kwargs receives arguments as a dictionary"
   ]
  },
  {
   "cell_type": "code",
   "execution_count": 12,
   "id": "bcc847f6-477e-4a43-8ecc-c12ec8a4f07e",
   "metadata": {},
   "outputs": [
    {
     "name": "stdout",
     "output_type": "stream",
     "text": [
      "Hello\n",
      "Welcome\n",
      "to\n",
      "GeeksforGeeks\n"
     ]
    }
   ],
   "source": [
    "def myFun(*argv):\n",
    "\tfor arg in argv:\n",
    "\t\tprint(arg)\n",
    "\n",
    "\n",
    "myFun('Hello', 'Welcome', 'to', 'GeeksforGeeks')\n"
   ]
  },
  {
   "cell_type": "code",
   "execution_count": 13,
   "id": "4960bdbc-8db3-4897-a55d-b223f2dd4a11",
   "metadata": {},
   "outputs": [
    {
     "name": "stdout",
     "output_type": "stream",
     "text": [
      "first == Geeks\n",
      "mid == for\n",
      "last == Geeks\n"
     ]
    }
   ],
   "source": [
    "def myFun(**kwargs):\n",
    "\tfor key, value in kwargs.items():\n",
    "\t\tprint(\"%s == %s\" % (key, value))\n",
    "\n",
    "\n",
    "# Driver code\n",
    "myFun(first='Geeks', mid='for', last='Geeks')\n"
   ]
  },
  {
   "cell_type": "markdown",
   "id": "80969ffc-b647-4ac4-83b2-000cf27f62ec",
   "metadata": {},
   "source": [
    "## Yield"
   ]
  },
  {
   "cell_type": "code",
   "execution_count": 14,
   "id": "b6598b9d-80d2-4713-a6a7-8fcbff7a0bbf",
   "metadata": {},
   "outputs": [],
   "source": [
    "# Return sends a specified value back to its caller whereas Yield can produce a sequence of values."
   ]
  },
  {
   "cell_type": "code",
   "execution_count": 15,
   "id": "a498ba8a-e2a4-4f68-b3a7-adbba76c9b42",
   "metadata": {},
   "outputs": [
    {
     "name": "stdout",
     "output_type": "stream",
     "text": [
      "1\n",
      "2\n",
      "3\n"
     ]
    }
   ],
   "source": [
    "# A Simple Python program to demonstrate working\n",
    "# of yield\n",
    "\n",
    "# A generator function that yields 1 for the first time,\n",
    "# 2 second time and 3 third time\n",
    "\n",
    "\n",
    "def simpleGeneratorFun():\n",
    "\tyield 1\n",
    "\tyield 2\n",
    "\tyield 3\n",
    "\n",
    "\n",
    "# Driver code to check above generator function\n",
    "for value in simpleGeneratorFun():\n",
    "\tprint(value)\n"
   ]
  },
  {
   "cell_type": "code",
   "execution_count": 16,
   "id": "37865abb-2232-4c7d-9cb4-68ea2dfc9f4e",
   "metadata": {},
   "outputs": [],
   "source": [
    "# If the body of a def contains yield, the function automatically becomes a generator function. "
   ]
  },
  {
   "cell_type": "code",
   "execution_count": 17,
   "id": "956161ea-7ae9-43e9-b4ae-0b790a0608c2",
   "metadata": {},
   "outputs": [
    {
     "name": "stdout",
     "output_type": "stream",
     "text": [
      "1\n",
      "2\n",
      "3\n",
      "Using generator function\n",
      "1\n",
      "2\n",
      "3\n"
     ]
    }
   ],
   "source": [
    "# A generator function that yields 1 for first time,\n",
    "# 2 second time and 3 third time\n",
    "def simpleGeneratorFun():\n",
    "\tyield 1\t\t\n",
    "\tyield 2\t\t\n",
    "\tyield 3\t\t\n",
    "\n",
    "# Driver code to check above generator function\n",
    "for value in simpleGeneratorFun():\n",
    "\tprint(value)\n",
    "# if we assign generator function's value to a variable then the variable becomes GENERATOR OBJECT\n",
    "# For example\n",
    "\n",
    "# generator object with next()\n",
    "# x is a generator object\n",
    "x = simpleGeneratorFun()\n",
    "\n",
    "# Iterating over the generator object using next\n",
    "print(\"Using generator function\")\n",
    "print(next(x)) # In Python 3, __next__()\n",
    "print(next(x))\n",
    "print(next(x))\n"
   ]
  },
  {
   "cell_type": "code",
   "execution_count": 18,
   "id": "59647aab-de13-408e-a1b4-3b3e1b08c772",
   "metadata": {},
   "outputs": [],
   "source": [
    "# CLOSURES:\n",
    "# A Closure is a function object that remembers values in enclosing scopes even if they are not present in memory."
   ]
  },
  {
   "cell_type": "code",
   "execution_count": 19,
   "id": "720c2be3-7e30-4804-acf8-1e7142730c04",
   "metadata": {},
   "outputs": [
    {
     "name": "stdout",
     "output_type": "stream",
     "text": [
      "Hey!\n"
     ]
    }
   ],
   "source": [
    "# Python program to illustrate\n",
    "# closures\n",
    "def outerFunction(text):\n",
    "\n",
    "    def innerFunction():\n",
    "        print(text)\n",
    "\n",
    "    # Note we are returning function\n",
    "    # WITHOUT parenthesis\n",
    "    return innerFunction\n",
    "\n",
    "if __name__ == '__main__':\n",
    "    myFunction = outerFunction('Hey!')\n",
    "    myFunction()\n"
   ]
  },
  {
   "cell_type": "code",
   "execution_count": 20,
   "id": "dccc5c39-3013-4688-a120-368bcf79f6b2",
   "metadata": {},
   "outputs": [
    {
     "name": "stdout",
     "output_type": "stream",
     "text": [
      "3628800\n",
      "Total time taken in :  factorial 2.0136353969573975\n"
     ]
    }
   ],
   "source": [
    "# importing libraries\n",
    "import time\n",
    "import math\n",
    "\n",
    "# decorator to calculate duration\n",
    "# taken by any function.\n",
    "def calculate_time(func):\n",
    "\t\n",
    "\t# added arguments inside the inner1,\n",
    "\t# if function takes any arguments,\n",
    "\t# can be added like this.\n",
    "\tdef inner1(*args, **kwargs):\n",
    "\n",
    "\t\t# storing time before function execution\n",
    "\t\tbegin = time.time()\n",
    "\t\t\n",
    "\t\tfunc(*args, **kwargs)\n",
    "\n",
    "\t\t# storing time after function execution\n",
    "\t\tend = time.time()\n",
    "\t\tprint(\"Total time taken in : \", func.__name__, end - begin)\n",
    "\n",
    "\treturn inner1\n",
    "\n",
    "\n",
    "\n",
    "# this can be added to any function present,\n",
    "# in this case to calculate a factorial\n",
    "@calculate_time\n",
    "def factorial(num):\n",
    "\n",
    "\t# sleep 2 seconds because it takes very less time\n",
    "\t# so that you can see the actual difference\n",
    "\ttime.sleep(2)\n",
    "\tprint(math.factorial(num))\n",
    "\n",
    "# calling the function.\n",
    "factorial(10)\n"
   ]
  },
  {
   "cell_type": "markdown",
   "id": "d2a9f2f5-aadf-448e-a430-9f6262ef31f3",
   "metadata": {
    "tags": []
   },
   "source": [
    "### Decorator"
   ]
  },
  {
   "cell_type": "code",
   "execution_count": null,
   "id": "17a8d75e-7b6e-4be5-9b5c-405e2c1f53f2",
   "metadata": {},
   "outputs": [],
   "source": [
    "#Decorator, as can be noticed by the name, is like a designer that helps to modify a function. \n",
    "#The decorator can be said to be a modification to the external layer of function, as it does not change its structure. \n",
    "#A decorator takes a function and inserts some new functionality in it without changing the function itself"
   ]
  },
  {
   "cell_type": "code",
   "execution_count": 1,
   "id": "7727536d-6f85-4b27-84ae-a39d2bf8dea7",
   "metadata": {},
   "outputs": [
    {
     "name": "stdout",
     "output_type": "stream",
     "text": [
      "Before function execution\n",
      "This is inside the function\n",
      "After function execution\n"
     ]
    }
   ],
   "source": [
    "#Example\n",
    "def inner1(func): \n",
    "    def inner2():\n",
    "        print(\"Before function execution\"); \n",
    "        func() \n",
    "        print(\"After function execution\")    \n",
    "    return inner2 \n",
    "\n",
    "@inner1\n",
    "def function_to_be_used(): \n",
    "    print(\"This is inside the function\") \n",
    "\n",
    "function_to_be_used()"
   ]
  }
 ],
 "metadata": {
  "kernelspec": {
   "display_name": "Python 3 (ipykernel)",
   "language": "python",
   "name": "python3"
  },
  "language_info": {
   "codemirror_mode": {
    "name": "ipython",
    "version": 3
   },
   "file_extension": ".py",
   "mimetype": "text/x-python",
   "name": "python",
   "nbconvert_exporter": "python",
   "pygments_lexer": "ipython3",
   "version": "3.9.13"
  }
 },
 "nbformat": 4,
 "nbformat_minor": 5
}
