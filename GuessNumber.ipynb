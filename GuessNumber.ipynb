{
 "cells": [
  {
   "cell_type": "code",
   "execution_count": 1,
   "id": "9971993a-b4e2-4164-843b-6bd5b66d9e62",
   "metadata": {},
   "outputs": [
    {
     "name": "stdin",
     "output_type": "stream",
     "text": [
      "Enter your name Yuval\n"
     ]
    },
    {
     "name": "stdout",
     "output_type": "stream",
     "text": [
      "Hello Yuval! Welcome to guessing game\n"
     ]
    },
    {
     "name": "stdin",
     "output_type": "stream",
     "text": [
      "Enter your guess: 78\n"
     ]
    },
    {
     "name": "stdout",
     "output_type": "stream",
     "text": [
      "The number is smaller than you have guessed\n"
     ]
    },
    {
     "name": "stdin",
     "output_type": "stream",
     "text": [
      "Enter your guess: 50\n"
     ]
    },
    {
     "name": "stdout",
     "output_type": "stream",
     "text": [
      "The number is smaller than you have guessed\n"
     ]
    },
    {
     "name": "stdin",
     "output_type": "stream",
     "text": [
      "Enter your guess: 20\n"
     ]
    },
    {
     "name": "stdout",
     "output_type": "stream",
     "text": [
      "The number is greater than you have guessed\n"
     ]
    },
    {
     "name": "stdin",
     "output_type": "stream",
     "text": [
      "Enter your guess: 25\n"
     ]
    },
    {
     "name": "stdout",
     "output_type": "stream",
     "text": [
      "The number is smaller than you have guessed\n"
     ]
    },
    {
     "name": "stdin",
     "output_type": "stream",
     "text": [
      "Enter your guess: 24\n"
     ]
    },
    {
     "name": "stdout",
     "output_type": "stream",
     "text": [
      "The number is smaller than you have guessed\n"
     ]
    },
    {
     "name": "stdin",
     "output_type": "stream",
     "text": [
      "Enter your guess: 21\n"
     ]
    },
    {
     "name": "stdout",
     "output_type": "stream",
     "text": [
      "Congratulations!!! You guessed it right, You won!!!\n",
      "Your score is 50\n",
      "Thanks for Playing\n"
     ]
    }
   ],
   "source": [
    "import random\n",
    "name = input(\"Enter your name\")\n",
    "print(f\"Hello {name}! Welcome to guessing game\")\n",
    "number = random.randint(0, 100)\n",
    "number_of_guesses = 0\n",
    "while(number_of_guesses <= 10):\n",
    "    guess = int(input(\"Enter your guess:\"))\n",
    "    if(guess < number):\n",
    "        print(\"The number is greater than you have guessed\")\n",
    "    elif(guess == number):\n",
    "        print(\"Congratulations!!! You guessed it right, You won!!!\")\n",
    "        print(f\"Your score is {(10-number_of_guesses) * 10}\")\n",
    "        break\n",
    "    else:\n",
    "        print(\"The number is smaller than you have guessed\")\n",
    "    number_of_guesses += 1\n",
    "\n",
    "if(number_of_guesses > 10):\n",
    "    print(\"You Lose\")\n",
    "    print(f\"The number of was {number}\")\n",
    "\n",
    "print(\"Thanks for Playing\")\n"
   ]
  },
  {
   "cell_type": "code",
   "execution_count": null,
   "id": "26aa7939-ed96-49f3-9b13-7c0b07a9e9b8",
   "metadata": {},
   "outputs": [],
   "source": []
  }
 ],
 "metadata": {
  "kernelspec": {
   "display_name": "Python 3 (ipykernel)",
   "language": "python",
   "name": "python3"
  },
  "language_info": {
   "codemirror_mode": {
    "name": "ipython",
    "version": 3
   },
   "file_extension": ".py",
   "mimetype": "text/x-python",
   "name": "python",
   "nbconvert_exporter": "python",
   "pygments_lexer": "ipython3",
   "version": "3.10.6"
  }
 },
 "nbformat": 4,
 "nbformat_minor": 5
}
