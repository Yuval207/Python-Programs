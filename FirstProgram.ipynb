{
 "cells": [
  {
   "cell_type": "code",
   "execution_count": 1,
   "id": "34965eff",
   "metadata": {},
   "outputs": [
    {
     "name": "stdout",
     "output_type": "stream",
     "text": [
      "Hello World!\n"
     ]
    }
   ],
   "source": [
    "print(\"Hello World!\")"
   ]
  },
  {
   "cell_type": "code",
   "execution_count": 2,
   "id": "3b4d3f6a",
   "metadata": {},
   "outputs": [
    {
     "data": {
      "text/plain": [
       "int"
      ]
     },
     "execution_count": 2,
     "metadata": {},
     "output_type": "execute_result"
    }
   ],
   "source": [
    "a = 20\n",
    "type(a)"
   ]
  },
  {
   "cell_type": "code",
   "execution_count": 4,
   "id": "ce2a4724",
   "metadata": {},
   "outputs": [],
   "source": [
    "a = \"Yuval\""
   ]
  },
  {
   "cell_type": "code",
   "execution_count": 5,
   "id": "c4cc8bb0",
   "metadata": {},
   "outputs": [
    {
     "name": "stdout",
     "output_type": "stream",
     "text": [
      "Yuval\n"
     ]
    },
    {
     "data": {
      "text/plain": [
       "str"
      ]
     },
     "execution_count": 5,
     "metadata": {},
     "output_type": "execute_result"
    }
   ],
   "source": [
    "print(a)\n",
    "type(a)"
   ]
  },
  {
   "cell_type": "code",
   "execution_count": 6,
   "id": "0e1a511e",
   "metadata": {},
   "outputs": [],
   "source": [
    "#sets: It is a type of mutable datatype"
   ]
  },
  {
   "cell_type": "code",
   "execution_count": 7,
   "id": "7e4d4afa",
   "metadata": {},
   "outputs": [],
   "source": [
    "b = {34, 34, 54}"
   ]
  },
  {
   "cell_type": "code",
   "execution_count": 8,
   "id": "9ef7e468",
   "metadata": {},
   "outputs": [
    {
     "data": {
      "text/plain": [
       "{34, 54}"
      ]
     },
     "execution_count": 8,
     "metadata": {},
     "output_type": "execute_result"
    }
   ],
   "source": [
    "b"
   ]
  },
  {
   "cell_type": "code",
   "execution_count": 1,
   "id": "94a2280a",
   "metadata": {},
   "outputs": [],
   "source": [
    "#In sets duplicate elements are removed"
   ]
  },
  {
   "cell_type": "code",
   "execution_count": 2,
   "id": "0106e190-8118-426e-a750-2805c083d9ba",
   "metadata": {},
   "outputs": [],
   "source": [
    "import keyword"
   ]
  },
  {
   "cell_type": "code",
   "execution_count": 3,
   "id": "e3ae5302-ecf2-4b58-9c4d-53baa8525caf",
   "metadata": {},
   "outputs": [
    {
     "name": "stdout",
     "output_type": "stream",
     "text": [
      "['False', 'None', 'True', 'and', 'as', 'assert', 'async', 'await', 'break', 'class', 'continue', 'def', 'del', 'elif', 'else', 'except', 'finally', 'for', 'from', 'global', 'if', 'import', 'in', 'is', 'lambda', 'nonlocal', 'not', 'or', 'pass', 'raise', 'return', 'try', 'while', 'with', 'yield']\n"
     ]
    }
   ],
   "source": [
    "print(keyword.kwlist)"
   ]
  },
  {
   "cell_type": "code",
   "execution_count": 6,
   "id": "34c513c9-9307-438a-be1e-a47792459d2b",
   "metadata": {},
   "outputs": [
    {
     "name": "stdout",
     "output_type": "stream",
     "text": [
      "True\n"
     ]
    }
   ],
   "source": [
    "print(keyword.iskeyword(\"for\"))"
   ]
  },
  {
   "cell_type": "code",
   "execution_count": 7,
   "id": "eb60c49f-f0f2-42c2-981f-1d499e0762ce",
   "metadata": {},
   "outputs": [
    {
     "name": "stdout",
     "output_type": "stream",
     "text": [
      "['_', 'case', 'match']\n"
     ]
    }
   ],
   "source": [
    "print(keyword.softkwlist)"
   ]
  },
  {
   "cell_type": "code",
   "execution_count": 8,
   "id": "17b53ee7-ae7f-4f14-8613-c86935ac0be5",
   "metadata": {},
   "outputs": [
    {
     "data": {
      "text/plain": [
       "\u001b[1;31mType:\u001b[0m        list\n",
       "\u001b[1;31mString form:\u001b[0m ['_', 'case', 'match']\n",
       "\u001b[1;31mLength:\u001b[0m      3\n",
       "\u001b[1;31mDocstring:\u001b[0m  \n",
       "Built-in mutable sequence.\n",
       "\n",
       "If no argument is given, the constructor creates a new empty list.\n",
       "The argument must be an iterable if specified.\n"
      ]
     },
     "metadata": {},
     "output_type": "display_data"
    }
   ],
   "source": [
    "keyword.softkwlist?"
   ]
  },
  {
   "cell_type": "code",
   "execution_count": 2,
   "id": "3cf764d6-403c-459c-a9c2-bf346b730b72",
   "metadata": {},
   "outputs": [
    {
     "name": "stdout",
     "output_type": "stream",
     "text": [
      "10\n"
     ]
    }
   ],
   "source": [
    "# Program to demonstrate conditional operator\n",
    "a, b = 10, 20\n",
    "\n",
    "# Copy value of a in min if a < b else copy b\n",
    "min = a if a < b else b\n",
    "\n",
    "print(min)\n"
   ]
  },
  {
   "cell_type": "code",
   "execution_count": 3,
   "id": "fe51f2c1-c21b-47ac-996f-b9500e6eee80",
   "metadata": {},
   "outputs": [
    {
     "name": "stdout",
     "output_type": "stream",
     "text": [
      "Print String in default order: \n",
      "Geeks For Life\n",
      "\n",
      "Print String in Positional order: \n",
      "For Geeks Life\n",
      "\n",
      "Print String in order of Keywords: \n",
      "Life For Geeks\n"
     ]
    }
   ],
   "source": [
    "# Python Program for\n",
    "# Formatting of Strings\n",
    "\n",
    "# Default order\n",
    "String1 = \"{} {} {}\".format('Geeks', 'For', 'Life')\n",
    "print(\"Print String in default order: \")\n",
    "print(String1)\n",
    "\n",
    "# Positional Formatting\n",
    "String1 = \"{1} {0} {2}\".format('Geeks', 'For', 'Life')\n",
    "print(\"\\nPrint String in Positional order: \")\n",
    "print(String1)\n",
    "\n",
    "# Keyword Formatting\n",
    "String1 = \"{l} {f} {g}\".format(g='Geeks', f='For', l='Life')\n",
    "print(\"\\nPrint String in order of Keywords: \")\n",
    "print(String1)\n"
   ]
  }
 ],
 "metadata": {
  "kernelspec": {
   "display_name": "Python 3 (ipykernel)",
   "language": "python",
   "name": "python3"
  },
  "language_info": {
   "codemirror_mode": {
    "name": "ipython",
    "version": 3
   },
   "file_extension": ".py",
   "mimetype": "text/x-python",
   "name": "python",
   "nbconvert_exporter": "python",
   "pygments_lexer": "ipython3",
   "version": "3.9.13"
  }
 },
 "nbformat": 4,
 "nbformat_minor": 5
}
