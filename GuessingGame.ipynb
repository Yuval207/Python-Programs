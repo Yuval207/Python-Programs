{
 "cells": [
  {
   "cell_type": "code",
   "execution_count": 26,
   "id": "508a183f-28fc-4306-b765-49d92345f103",
   "metadata": {},
   "outputs": [
    {
     "name": "stdin",
     "output_type": "stream",
     "text": [
      "Enter your name Yuval\n"
     ]
    },
    {
     "name": "stdout",
     "output_type": "stream",
     "text": [
      "Hello Yuval! Welcome to guessing game\n",
      "d e _ e _ _ _ _ e _ t "
     ]
    },
    {
     "name": "stdin",
     "output_type": "stream",
     "text": [
      "\n",
      "Guess a character:  v\n"
     ]
    },
    {
     "name": "stdout",
     "output_type": "stream",
     "text": [
      "d e v e _ _ _ _ e _ t "
     ]
    },
    {
     "name": "stdin",
     "output_type": "stream",
     "text": [
      "\n",
      "Guess a character:  o\n"
     ]
    },
    {
     "name": "stdout",
     "output_type": "stream",
     "text": [
      "d e v e _ o _ _ e _ t "
     ]
    },
    {
     "name": "stdin",
     "output_type": "stream",
     "text": [
      "\n",
      "Guess a character:  p\n"
     ]
    },
    {
     "name": "stdout",
     "output_type": "stream",
     "text": [
      "d e v e _ o p _ e _ t "
     ]
    },
    {
     "name": "stdin",
     "output_type": "stream",
     "text": [
      "\n",
      "Guess a character:  m\n"
     ]
    },
    {
     "name": "stdout",
     "output_type": "stream",
     "text": [
      "d e v e _ o p m e _ t "
     ]
    },
    {
     "name": "stdin",
     "output_type": "stream",
     "text": [
      "\n",
      "Guess a character:  y\n"
     ]
    },
    {
     "name": "stdout",
     "output_type": "stream",
     "text": [
      "\n",
      "Wrong Answer!!\n",
      "You have 9 chances left!\n",
      "d e v e _ o p m e _ t "
     ]
    },
    {
     "name": "stdin",
     "output_type": "stream",
     "text": [
      "\n",
      "Guess a character:  q\n"
     ]
    },
    {
     "name": "stdout",
     "output_type": "stream",
     "text": [
      "\n",
      "Wrong Answer!!\n",
      "You have 8 chances left!\n",
      "d e v e _ o p m e _ t "
     ]
    },
    {
     "name": "stdin",
     "output_type": "stream",
     "text": [
      "\n",
      "Guess a character:  n\n"
     ]
    },
    {
     "name": "stdout",
     "output_type": "stream",
     "text": [
      "d e v e _ o p m e n t "
     ]
    },
    {
     "name": "stdin",
     "output_type": "stream",
     "text": [
      "\n",
      "Guess a character:  l\n"
     ]
    },
    {
     "name": "stdout",
     "output_type": "stream",
     "text": [
      "d e v e l o p m e n t \n",
      " Congratulations!! You Won!!\n",
      "Your score is 80\n"
     ]
    },
    {
     "name": "stdin",
     "output_type": "stream",
     "text": [
      "Do you want to play again? (Yes/No):  No\n"
     ]
    },
    {
     "name": "stdout",
     "output_type": "stream",
     "text": [
      "Thanks for playing\n"
     ]
    }
   ],
   "source": [
    "import random\n",
    "name = input(\"Enter your name\")\n",
    "print(f\"Hello {name}! Welcome to guessing game\")\n",
    "words = [\"python\", \"programming\", \"language\", \"spiderman\", \"opensource\", \"jupyterlab\", \n",
    "        \"development\", \"youtube\"]\n",
    "# get a random word from this list\n",
    "index = random.randint(0, len(words))\n",
    "word = words[index]\n",
    "indexes = random.sample(range(0, len(word)), 3)\n",
    "guesses = \"\" #characters that the user has guessed so far\n",
    "for i in indexes:\n",
    "    guesses += word[i]\n",
    "    \n",
    "chances = 10\n",
    "play = \"Yes\"\n",
    "\n",
    "def playagain():\n",
    "    global play\n",
    "    play = input(\"Do you want to play again? (Yes/No): \")\n",
    "    if play == \"Yes\":\n",
    "        global chances, word, guesses\n",
    "        chances = 10\n",
    "        index = random.randint(0, len(words)-1)\n",
    "        word = words[index]\n",
    "        indexes = random.sample(range(0, len(word), 3))\n",
    "        guesses = \"\" \n",
    "        for i in indexes:\n",
    "            guesses += word[i]\n",
    "            \n",
    "while play == \"Yes\":\n",
    "    while chances > 0:\n",
    "        won = True\n",
    "        for ch in word:\n",
    "                if ch in guesses:\n",
    "                    print(ch, end=\" \")\n",
    "                else:\n",
    "                    print(\"_\", end=\" \")\n",
    "                    won = False\n",
    "        if won:\n",
    "            print(\"\\n Congratulations!! You Won!!\")\n",
    "            print(f\"Your score is {chances * 10}\")\n",
    "            playagain()\n",
    "            break\n",
    "        # take a guess from the user\n",
    "        guess = input(\"\\nGuess a character: \")\n",
    "        guesses += guess\n",
    "\n",
    "        if guess not in word:\n",
    "            chances -= 1\n",
    "            print(\"\\nWrong Answer!!\")\n",
    "            print(f\"You have {chances} chances left!\")\n",
    "\n",
    "            if chances == 0:\n",
    "                print(\"You Lose!!\")\n",
    "                playagain()\n",
    "                break\n",
    "\n",
    "print(\"Thanks for playing\")"
   ]
  },
  {
   "cell_type": "code",
   "execution_count": null,
   "id": "47133a37-df4e-4ec5-9d8a-36d587eb02a5",
   "metadata": {},
   "outputs": [],
   "source": []
  }
 ],
 "metadata": {
  "kernelspec": {
   "display_name": "Python 3 (ipykernel)",
   "language": "python",
   "name": "python3"
  },
  "language_info": {
   "codemirror_mode": {
    "name": "ipython",
    "version": 3
   },
   "file_extension": ".py",
   "mimetype": "text/x-python",
   "name": "python",
   "nbconvert_exporter": "python",
   "pygments_lexer": "ipython3",
   "version": "3.10.6"
  }
 },
 "nbformat": 4,
 "nbformat_minor": 5
}
