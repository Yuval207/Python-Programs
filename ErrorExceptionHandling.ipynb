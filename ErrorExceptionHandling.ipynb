{
 "cells": [
  {
   "cell_type": "markdown",
   "id": "eb4d30a5-5ea4-48a1-a6b3-13254e36cef6",
   "metadata": {},
   "source": [
    "# Error and Exception handling"
   ]
  },
  {
   "cell_type": "markdown",
   "id": "1dcc5076-3235-4049-93c5-3c58756b7b51",
   "metadata": {},
   "source": [
    "Some of the common Exception Errors are : \n",
    " \n",
    "\n",
    "IOError: if the file can’t be opened\n",
    "KeyboardInterrupt: when an unrequired key is pressed by the user\n",
    "ValueError: when built-in function receives a wrong argument\n",
    "EOFError: if End-Of-File is hit without reading any data\n",
    "ImportError: if it is unable to find the module"
   ]
  },
  {
   "cell_type": "markdown",
   "id": "14de21f6-0c5a-4b6b-8f8f-61631811259c",
   "metadata": {},
   "source": [
    "### Try and Except Statement"
   ]
  },
  {
   "cell_type": "code",
   "execution_count": 1,
   "id": "a189cd6a-4782-4015-9501-b1472339cda4",
   "metadata": {},
   "outputs": [
    {
     "name": "stdout",
     "output_type": "stream",
     "text": [
      "Second element = 2\n",
      "An error occurred\n"
     ]
    }
   ],
   "source": [
    "# Python program to handle simple runtime error\n",
    "#Python 3\n",
    "\n",
    "a = [1, 2, 3]\n",
    "try:\n",
    "\tprint (\"Second element = %d\" %(a[1]))\n",
    "\n",
    "\t# Throws error since there are only 3 elements in array\n",
    "\tprint (\"Fourth element = %d\" %(a[3]))\n",
    "\n",
    "except:\n",
    "\tprint (\"An error occurred\")\n"
   ]
  },
  {
   "cell_type": "markdown",
   "id": "8bdf2968-cb15-403e-98f2-2c3542dd86d1",
   "metadata": {},
   "source": [
    "### Catching Specific Exception"
   ]
  },
  {
   "cell_type": "code",
   "execution_count": 2,
   "id": "148034a8-dc3b-48d1-9559-4b0f6689cc71",
   "metadata": {},
   "outputs": [
    {
     "name": "stdout",
     "output_type": "stream",
     "text": [
      "ZeroDivisionError Occurred and Handled\n"
     ]
    }
   ],
   "source": [
    "# Program to handle multiple errors with one\n",
    "# except statement\n",
    "# Python 3\n",
    "\n",
    "def fun(a):\n",
    "\tif a < 4:\n",
    "\n",
    "\t\t# throws ZeroDivisionError for a = 3\n",
    "\t\tb = a/(a-3)\n",
    "\n",
    "\t# throws NameError if a >= 4\n",
    "\tprint(\"Value of b = \", b)\n",
    "\t\n",
    "try:\n",
    "\tfun(3)\n",
    "\tfun(5)\n",
    "\n",
    "# note that braces () are necessary here for\n",
    "# multiple exceptions\n",
    "except ZeroDivisionError:\n",
    "\tprint(\"ZeroDivisionError Occurred and Handled\")\n",
    "except NameError:\n",
    "\tprint(\"NameError Occurred and Handled\")\n"
   ]
  },
  {
   "cell_type": "markdown",
   "id": "bbf682f0-f739-413c-8700-c707db60be2f",
   "metadata": {},
   "source": [
    "### Try with Else Clause"
   ]
  },
  {
   "cell_type": "code",
   "execution_count": 3,
   "id": "92f80a89-1a48-4a6b-96c7-ae6609f9b4df",
   "metadata": {},
   "outputs": [
    {
     "name": "stdout",
     "output_type": "stream",
     "text": [
      "-5.0\n",
      "a/b result in 0\n"
     ]
    }
   ],
   "source": [
    "# Program to depict else clause with try-except\n",
    "# Python 3\n",
    "# Function which returns a/b\n",
    "def AbyB(a , b):\n",
    "\ttry:\n",
    "\t\tc = ((a+b) / (a-b))\n",
    "\texcept ZeroDivisionError:\n",
    "\t\tprint (\"a/b result in 0\")\n",
    "\telse:\n",
    "\t\tprint (c)\n",
    "\n",
    "# Driver program to test above function\n",
    "AbyB(2.0, 3.0)\n",
    "AbyB(3.0, 3.0)\n"
   ]
  },
  {
   "cell_type": "markdown",
   "id": "6329e9e9-96cf-42e5-815d-01afd592dab0",
   "metadata": {},
   "source": [
    "### Finally Keyword in Python\n",
    "Python provides a keyword finally, which is always executed after the try and except blocks. The final block always executes after normal termination of try block or after try block terminates due to some exception."
   ]
  },
  {
   "cell_type": "code",
   "execution_count": 4,
   "id": "2222d556-e3b3-4970-8d04-a2773e7d3165",
   "metadata": {},
   "outputs": [
    {
     "name": "stdout",
     "output_type": "stream",
     "text": [
      "Can't divide by zero\n",
      "This is always executed\n"
     ]
    }
   ],
   "source": [
    "# Python program to demonstrate finally\n",
    "\n",
    "# No exception Exception raised in try block\n",
    "try:\n",
    "\tk = 5//0 # raises divide by zero exception.\n",
    "\tprint(k)\n",
    "\n",
    "# handles zerodivision exception\n",
    "except ZeroDivisionError:\n",
    "\tprint(\"Can't divide by zero\")\n",
    "\n",
    "finally:\n",
    "\t# this block is always executed\n",
    "\t# regardless of exception generation.\n",
    "\tprint('This is always executed')\n"
   ]
  },
  {
   "cell_type": "markdown",
   "id": "8272abd0-dc9f-4033-ad35-a709f8232e34",
   "metadata": {},
   "source": [
    "### Raise statement\n",
    "\n",
    "The raise statement allows the programmer to force a specific exception to occur. The sole argument in raise indicates the exception to be raised. This must be either an exception instance or an exception class (a class that derives from Exception)."
   ]
  },
  {
   "cell_type": "code",
   "execution_count": 5,
   "id": "42dcdec6-5fa6-43a1-8abc-225ff4a5d983",
   "metadata": {},
   "outputs": [
    {
     "name": "stdout",
     "output_type": "stream",
     "text": [
      "An exception\n"
     ]
    },
    {
     "ename": "NameError",
     "evalue": "Hi there",
     "output_type": "error",
     "traceback": [
      "\u001b[1;31m---------------------------------------------------------------------------\u001b[0m",
      "\u001b[1;31mNameError\u001b[0m                                 Traceback (most recent call last)",
      "\u001b[1;32m~\\AppData\\Local\\Temp\\ipykernel_10884\\515664033.py\u001b[0m in \u001b[0;36m<module>\u001b[1;34m\u001b[0m\n\u001b[0;32m      2\u001b[0m \u001b[1;33m\u001b[0m\u001b[0m\n\u001b[0;32m      3\u001b[0m \u001b[1;32mtry\u001b[0m\u001b[1;33m:\u001b[0m\u001b[1;33m\u001b[0m\u001b[1;33m\u001b[0m\u001b[0m\n\u001b[1;32m----> 4\u001b[1;33m         \u001b[1;32mraise\u001b[0m \u001b[0mNameError\u001b[0m\u001b[1;33m(\u001b[0m\u001b[1;34m\"Hi there\"\u001b[0m\u001b[1;33m)\u001b[0m \u001b[1;31m# Raise Error\u001b[0m\u001b[1;33m\u001b[0m\u001b[1;33m\u001b[0m\u001b[0m\n\u001b[0m\u001b[0;32m      5\u001b[0m \u001b[1;32mexcept\u001b[0m \u001b[0mNameError\u001b[0m\u001b[1;33m:\u001b[0m\u001b[1;33m\u001b[0m\u001b[1;33m\u001b[0m\u001b[0m\n\u001b[0;32m      6\u001b[0m         \u001b[0mprint\u001b[0m \u001b[1;33m(\u001b[0m\u001b[1;34m\"An exception\"\u001b[0m\u001b[1;33m)\u001b[0m\u001b[1;33m\u001b[0m\u001b[1;33m\u001b[0m\u001b[0m\n",
      "\u001b[1;31mNameError\u001b[0m: Hi there"
     ]
    }
   ],
   "source": [
    "# Program to depict Raising Exception\n",
    "\n",
    "try:\n",
    "\traise NameError(\"Hi there\") # Raise Error\n",
    "except NameError:\n",
    "\tprint (\"An exception\")\n",
    "\traise # To determine whether the exception was raised or not\n"
   ]
  },
  {
   "cell_type": "markdown",
   "id": "cc58a44f-843f-4bdb-9c3f-fe9dbe00a5da",
   "metadata": {},
   "source": [
    "### User-Defined Exception"
   ]
  },
  {
   "cell_type": "code",
   "execution_count": 8,
   "id": "25690d1f-f9b3-48b0-a1f2-2f0bcb5ae31f",
   "metadata": {},
   "outputs": [
    {
     "name": "stdout",
     "output_type": "stream",
     "text": [
      "A New Exception occurred:  6\n"
     ]
    }
   ],
   "source": [
    "# A python program to create user-defined exception\n",
    "# class MyError is derived from super class Exception\n",
    "class MyError(Exception):\n",
    "\n",
    "\t# Constructor or Initializer\n",
    "\tdef __init__(self, value):\n",
    "\t\tself.value = value\n",
    "\n",
    "\t# __str__ is to print() the value\n",
    "\tdef __str__(self):\n",
    "\t\treturn(repr(self.value))\n",
    "\n",
    "\n",
    "try:\n",
    "\traise(MyError(3*2))\n",
    "\n",
    "# Value of Exception is stored in error\n",
    "except MyError as error:\n",
    "\tprint('A New Exception occurred: ', error.value)\n"
   ]
  },
  {
   "cell_type": "code",
   "execution_count": 9,
   "id": "75dad5a0-7ca6-4eed-8bff-dcb65ddf91af",
   "metadata": {
    "collapsed": true,
    "jupyter": {
     "outputs_hidden": true
    },
    "tags": []
   },
   "outputs": [
    {
     "name": "stdout",
     "output_type": "stream",
     "text": [
      "Help on class Exception in module builtins:\n",
      "\n",
      "class Exception(BaseException)\n",
      " |  Common base class for all non-exit exceptions.\n",
      " |  \n",
      " |  Method resolution order:\n",
      " |      Exception\n",
      " |      BaseException\n",
      " |      object\n",
      " |  \n",
      " |  Built-in subclasses:\n",
      " |      ArithmeticError\n",
      " |      AssertionError\n",
      " |      AttributeError\n",
      " |      BufferError\n",
      " |      ... and 15 other subclasses\n",
      " |  \n",
      " |  Methods defined here:\n",
      " |  \n",
      " |  __init__(self, /, *args, **kwargs)\n",
      " |      Initialize self.  See help(type(self)) for accurate signature.\n",
      " |  \n",
      " |  ----------------------------------------------------------------------\n",
      " |  Static methods defined here:\n",
      " |  \n",
      " |  __new__(*args, **kwargs) from builtins.type\n",
      " |      Create and return a new object.  See help(type) for accurate signature.\n",
      " |  \n",
      " |  ----------------------------------------------------------------------\n",
      " |  Methods inherited from BaseException:\n",
      " |  \n",
      " |  __delattr__(self, name, /)\n",
      " |      Implement delattr(self, name).\n",
      " |  \n",
      " |  __getattribute__(self, name, /)\n",
      " |      Return getattr(self, name).\n",
      " |  \n",
      " |  __reduce__(...)\n",
      " |      Helper for pickle.\n",
      " |  \n",
      " |  __repr__(self, /)\n",
      " |      Return repr(self).\n",
      " |  \n",
      " |  __setattr__(self, name, value, /)\n",
      " |      Implement setattr(self, name, value).\n",
      " |  \n",
      " |  __setstate__(...)\n",
      " |  \n",
      " |  __str__(self, /)\n",
      " |      Return str(self).\n",
      " |  \n",
      " |  with_traceback(...)\n",
      " |      Exception.with_traceback(tb) --\n",
      " |      set self.__traceback__ to tb and return self.\n",
      " |  \n",
      " |  ----------------------------------------------------------------------\n",
      " |  Data descriptors inherited from BaseException:\n",
      " |  \n",
      " |  __cause__\n",
      " |      exception cause\n",
      " |  \n",
      " |  __context__\n",
      " |      exception context\n",
      " |  \n",
      " |  __dict__\n",
      " |  \n",
      " |  __suppress_context__\n",
      " |  \n",
      " |  __traceback__\n",
      " |  \n",
      " |  args\n",
      "\n"
     ]
    }
   ],
   "source": [
    "help(Exception)"
   ]
  },
  {
   "cell_type": "code",
   "execution_count": null,
   "id": "6c8bf71a-1284-4137-8d0d-22766377c8e8",
   "metadata": {},
   "outputs": [],
   "source": []
  }
 ],
 "metadata": {
  "kernelspec": {
   "display_name": "Python 3 (ipykernel)",
   "language": "python",
   "name": "python3"
  },
  "language_info": {
   "codemirror_mode": {
    "name": "ipython",
    "version": 3
   },
   "file_extension": ".py",
   "mimetype": "text/x-python",
   "name": "python",
   "nbconvert_exporter": "python",
   "pygments_lexer": "ipython3",
   "version": "3.9.13"
  }
 },
 "nbformat": 4,
 "nbformat_minor": 5
}
