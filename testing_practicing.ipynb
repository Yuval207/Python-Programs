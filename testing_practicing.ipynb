{
 "cells": [
  {
   "cell_type": "code",
   "execution_count": 2,
   "id": "f8bb2c01-a603-48ea-8451-f325cf03455a",
   "metadata": {},
   "outputs": [],
   "source": [
    "dict = {1: \"Yuval\", 2: \"Yuvak\", 3:\"Yuvap\", 69:\"Yuvi\"}"
   ]
  },
  {
   "cell_type": "code",
   "execution_count": 3,
   "id": "2e40528a-1dff-42f6-b422-b527b0d4ab58",
   "metadata": {},
   "outputs": [
    {
     "name": "stdout",
     "output_type": "stream",
     "text": [
      "{1: 'Yuval', 2: 'Yuvak', 3: 'Yuvap', 69: 'Yuvi'}\n"
     ]
    }
   ],
   "source": [
    "print(dict)"
   ]
  },
  {
   "cell_type": "code",
   "execution_count": 4,
   "id": "8aefe1da-1e26-432e-bee0-e1a96386698f",
   "metadata": {},
   "outputs": [
    {
     "data": {
      "text/plain": [
       "dict_items([(1, 'Yuval'), (2, 'Yuvak'), (3, 'Yuvap'), (69, 'Yuvi')])"
      ]
     },
     "execution_count": 4,
     "metadata": {},
     "output_type": "execute_result"
    }
   ],
   "source": [
    "dict.items()"
   ]
  },
  {
   "cell_type": "code",
   "execution_count": 5,
   "id": "c0df9784-e167-49fb-aebd-9e5ea95db281",
   "metadata": {},
   "outputs": [
    {
     "data": {
      "text/plain": [
       "dict_values(['Yuval', 'Yuvak', 'Yuvap', 'Yuvi'])"
      ]
     },
     "execution_count": 5,
     "metadata": {},
     "output_type": "execute_result"
    }
   ],
   "source": [
    "dict.values()"
   ]
  },
  {
   "cell_type": "code",
   "execution_count": 6,
   "id": "d714254f-2574-4202-b040-62a9fbbc39a2",
   "metadata": {},
   "outputs": [],
   "source": [
    "a= dict.values()"
   ]
  },
  {
   "cell_type": "code",
   "execution_count": 7,
   "id": "d694c0af-3259-49f4-bca4-629ad645f344",
   "metadata": {},
   "outputs": [
    {
     "data": {
      "text/plain": [
       "dict_values"
      ]
     },
     "execution_count": 7,
     "metadata": {},
     "output_type": "execute_result"
    }
   ],
   "source": [
    "type(a)"
   ]
  },
  {
   "cell_type": "code",
   "execution_count": 8,
   "id": "74790cd1-a834-4f54-a21b-afe8376502fd",
   "metadata": {},
   "outputs": [
    {
     "data": {
      "text/plain": [
       "dict_values(['Yuval', 'Yuvak', 'Yuvap', 'Yuvi'])"
      ]
     },
     "execution_count": 8,
     "metadata": {},
     "output_type": "execute_result"
    }
   ],
   "source": [
    "a"
   ]
  },
  {
   "cell_type": "code",
   "execution_count": 11,
   "id": "2bb6ed51-d123-4c08-a65f-4c2add4daa45",
   "metadata": {},
   "outputs": [],
   "source": [
    "a = sorted(a)"
   ]
  },
  {
   "cell_type": "code",
   "execution_count": 12,
   "id": "fc4ba48c-1b17-44da-a886-88d9732cb7f0",
   "metadata": {},
   "outputs": [
    {
     "data": {
      "text/plain": [
       "['Yuvak', 'Yuval', 'Yuvap', 'Yuvi']"
      ]
     },
     "execution_count": 12,
     "metadata": {},
     "output_type": "execute_result"
    }
   ],
   "source": [
    "a"
   ]
  },
  {
   "cell_type": "code",
   "execution_count": null,
   "id": "a622e2cc-0ca5-4abe-89ce-def5488f555d",
   "metadata": {},
   "outputs": [],
   "source": []
  }
 ],
 "metadata": {
  "kernelspec": {
   "display_name": "Python 3 (ipykernel)",
   "language": "python",
   "name": "python3"
  },
  "language_info": {
   "codemirror_mode": {
    "name": "ipython",
    "version": 3
   },
   "file_extension": ".py",
   "mimetype": "text/x-python",
   "name": "python",
   "nbconvert_exporter": "python",
   "pygments_lexer": "ipython3",
   "version": "3.10.6"
  }
 },
 "nbformat": 4,
 "nbformat_minor": 5
}
