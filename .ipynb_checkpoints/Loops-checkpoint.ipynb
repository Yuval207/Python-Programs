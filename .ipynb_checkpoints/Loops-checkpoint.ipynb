{
 "cells": [
  {
   "cell_type": "code",
   "execution_count": 2,
   "id": "0afaaafa",
   "metadata": {},
   "outputs": [],
   "source": [
    "#Loops "
   ]
  },
  {
   "cell_type": "code",
   "execution_count": 5,
   "id": "1cdc8714",
   "metadata": {},
   "outputs": [],
   "source": [
    "a = [1, 2, 3, 4, 50]"
   ]
  },
  {
   "cell_type": "code",
   "execution_count": 6,
   "id": "05df9721",
   "metadata": {},
   "outputs": [
    {
     "name": "stdout",
     "output_type": "stream",
     "text": [
      "1\n",
      "2\n",
      "3\n",
      "4\n",
      "50\n"
     ]
    }
   ],
   "source": [
    "for i in a:\n",
    "    print(i)"
   ]
  },
  {
   "cell_type": "code",
   "execution_count": 7,
   "id": "4f035cf4",
   "metadata": {},
   "outputs": [
    {
     "name": "stdout",
     "output_type": "stream",
     "text": [
      "1\n",
      "2\n",
      "3\n",
      "4\n",
      "5\n",
      "6\n",
      "7\n",
      "8\n",
      "9\n"
     ]
    }
   ],
   "source": [
    "for i in range(1,10):\n",
    "    print(i)"
   ]
  },
  {
   "cell_type": "code",
   "execution_count": 8,
   "id": "f253bfd7",
   "metadata": {},
   "outputs": [],
   "source": [
    "#Enumerate method: Enumerate() method adds a counter to an iterable and returns it in a form of enumerating object. \n",
    "#This enumerated object can then be used directly for loops or converted into a list of tuples using the list() method.\n",
    "\n",
    "#Syntax -> enumerate(iterable, start=0)"
   ]
  },
  {
   "cell_type": "code",
   "execution_count": 9,
   "id": "81ecb38a",
   "metadata": {},
   "outputs": [
    {
     "name": "stdout",
     "output_type": "stream",
     "text": [
      "0 1\n",
      "1 2\n",
      "2 3\n",
      "3 4\n",
      "4 50\n"
     ]
    }
   ],
   "source": [
    "for index, value in enumerate(a):\n",
    "    print(index, value)"
   ]
  },
  {
   "cell_type": "code",
   "execution_count": 10,
   "id": "a5c85876",
   "metadata": {},
   "outputs": [],
   "source": [
    "#Range function"
   ]
  },
  {
   "cell_type": "code",
   "execution_count": 13,
   "id": "6ef206bc",
   "metadata": {},
   "outputs": [],
   "source": [
    "a = list(range(1, 10))"
   ]
  },
  {
   "cell_type": "code",
   "execution_count": 14,
   "id": "4a106a04",
   "metadata": {},
   "outputs": [
    {
     "data": {
      "text/plain": [
       "[1, 2, 3, 4, 5, 6, 7, 8, 9]"
      ]
     },
     "execution_count": 14,
     "metadata": {},
     "output_type": "execute_result"
    }
   ],
   "source": [
    "a"
   ]
  },
  {
   "cell_type": "code",
   "execution_count": 15,
   "id": "cb799803",
   "metadata": {},
   "outputs": [],
   "source": [
    "#using for loops with lists"
   ]
  },
  {
   "cell_type": "code",
   "execution_count": 16,
   "id": "cb9a4a0b",
   "metadata": {},
   "outputs": [],
   "source": [
    "l = [i for i in range(1, 8)]"
   ]
  },
  {
   "cell_type": "code",
   "execution_count": 18,
   "id": "2dc5ccbb",
   "metadata": {},
   "outputs": [
    {
     "data": {
      "text/plain": [
       "[1, 2, 3, 4, 5, 6, 7]"
      ]
     },
     "execution_count": 18,
     "metadata": {},
     "output_type": "execute_result"
    }
   ],
   "source": [
    "l"
   ]
  },
  {
   "cell_type": "code",
   "execution_count": 19,
   "id": "eeb01730",
   "metadata": {},
   "outputs": [],
   "source": [
    "tableOfTwo = [2*i for i in range(1, 11)]"
   ]
  },
  {
   "cell_type": "code",
   "execution_count": 20,
   "id": "d08e25c0",
   "metadata": {},
   "outputs": [
    {
     "data": {
      "text/plain": [
       "[1, 2, 3, 4, 5, 6, 7]"
      ]
     },
     "execution_count": 20,
     "metadata": {},
     "output_type": "execute_result"
    }
   ],
   "source": [
    "l"
   ]
  },
  {
   "cell_type": "code",
   "execution_count": 21,
   "id": "009aad08",
   "metadata": {},
   "outputs": [
    {
     "data": {
      "text/plain": [
       "[2, 4, 6, 8, 10, 12, 14, 16, 18, 20]"
      ]
     },
     "execution_count": 21,
     "metadata": {},
     "output_type": "execute_result"
    }
   ],
   "source": [
    "tableOfTwo"
   ]
  },
  {
   "cell_type": "code",
   "execution_count": 23,
   "id": "bc338eaf",
   "metadata": {},
   "outputs": [],
   "source": [
    "#list of list (2d list)\n",
    "a = [\n",
    "    [1, 2],\n",
    "    [5, 5]\n",
    "]"
   ]
  },
  {
   "cell_type": "code",
   "execution_count": 24,
   "id": "476af194",
   "metadata": {},
   "outputs": [
    {
     "name": "stdout",
     "output_type": "stream",
     "text": [
      "[[1, 2], [5, 5]]\n"
     ]
    }
   ],
   "source": [
    "print(a)"
   ]
  },
  {
   "cell_type": "code",
   "execution_count": 25,
   "id": "1481d55d",
   "metadata": {},
   "outputs": [
    {
     "name": "stdout",
     "output_type": "stream",
     "text": [
      "1 2 \n",
      "5 5 \n"
     ]
    }
   ],
   "source": [
    "for i in range(0, len(a)):\n",
    "    for j in range(0, len(a)):\n",
    "        print(a[i][j], end=\" \")\n",
    "    print()"
   ]
  },
  {
   "cell_type": "code",
   "execution_count": 26,
   "id": "b76a1852",
   "metadata": {},
   "outputs": [],
   "source": [
    "#Tables from 1 to n in one line"
   ]
  },
  {
   "cell_type": "code",
   "execution_count": 30,
   "id": "c652837e",
   "metadata": {},
   "outputs": [],
   "source": [
    "table = [[i*n for i in range(1, 11)] for n in range(1, 11)]"
   ]
  },
  {
   "cell_type": "code",
   "execution_count": 31,
   "id": "7a2b3621",
   "metadata": {},
   "outputs": [
    {
     "data": {
      "text/plain": [
       "[[1, 2, 3, 4, 5, 6, 7, 8, 9, 10],\n",
       " [2, 4, 6, 8, 10, 12, 14, 16, 18, 20],\n",
       " [3, 6, 9, 12, 15, 18, 21, 24, 27, 30],\n",
       " [4, 8, 12, 16, 20, 24, 28, 32, 36, 40],\n",
       " [5, 10, 15, 20, 25, 30, 35, 40, 45, 50],\n",
       " [6, 12, 18, 24, 30, 36, 42, 48, 54, 60],\n",
       " [7, 14, 21, 28, 35, 42, 49, 56, 63, 70],\n",
       " [8, 16, 24, 32, 40, 48, 56, 64, 72, 80],\n",
       " [9, 18, 27, 36, 45, 54, 63, 72, 81, 90],\n",
       " [10, 20, 30, 40, 50, 60, 70, 80, 90, 100]]"
      ]
     },
     "execution_count": 31,
     "metadata": {},
     "output_type": "execute_result"
    }
   ],
   "source": [
    "table"
   ]
  },
  {
   "cell_type": "code",
   "execution_count": 1,
   "id": "998604d7",
   "metadata": {},
   "outputs": [
    {
     "name": "stdout",
     "output_type": "stream",
     "text": [
      "The new created array is :  1 2 3 \n",
      "The new created array is :  2.5 3.2 3.3 "
     ]
    }
   ],
   "source": [
    "# Creation of Array\n",
    " \n",
    "# importing \"array\" for array creations\n",
    "import array as arr\n",
    " \n",
    "# creating an array with integer type\n",
    "a = arr.array('i', [1, 2, 3])\n",
    " \n",
    "# printing original array\n",
    "print (\"The new created array is : \", end =\" \")\n",
    "for i in range (0, 3):\n",
    "    print (a[i], end =\" \")\n",
    "print()\n",
    " \n",
    "# creating an array with double type\n",
    "b = arr.array('d', [2.5, 3.2, 3.3])\n",
    " \n",
    "# printing original array\n",
    "print (\"The new created array is : \", end =\" \")\n",
    "for i in range (0, 3):\n",
    "    print (b[i], end =\" \")"
   ]
  },
  {
   "cell_type": "code",
   "execution_count": 1,
   "id": "eb905c1b-9f92-40e1-ae7a-3732ea7b6a4e",
   "metadata": {},
   "outputs": [
    {
     "name": "stdout",
     "output_type": "stream",
     "text": [
      "What is your name? I am apple.\n",
      "What is your colour? I am red.\n",
      "What is your shape? I am a circle.\n"
     ]
    }
   ],
   "source": [
    "# ZIP function\n",
    "# python code to demonstrate working of zip()\n",
    "\n",
    "# initializing list\n",
    "questions = ['name', 'colour', 'shape']\n",
    "answers = ['apple', 'red', 'a circle']\n",
    "\n",
    "# using zip() to combine two containers\n",
    "# and print values\n",
    "for question, answer in zip(questions, answers):\n",
    "    print('What is your {0}? I am {1}.'.format(question, answer))\n"
   ]
  },
  {
   "cell_type": "code",
   "execution_count": 1,
   "id": "80267684-a823-4e5b-b291-98d7f380fa22",
   "metadata": {},
   "outputs": [],
   "source": [
    "# CLOSURES:\n",
    "# A Closure is a function object that remembers values in enclosing scopes even if they are not present in memory."
   ]
  },
  {
   "cell_type": "code",
   "execution_count": 2,
   "id": "94cfeebf-407e-44dc-a8ae-ed182053d392",
   "metadata": {},
   "outputs": [
    {
     "name": "stdout",
     "output_type": "stream",
     "text": [
      "Hey!\n"
     ]
    }
   ],
   "source": [
    "# Python program to illustrate\n",
    "# closures\n",
    "def outerFunction(text):\n",
    "\n",
    "    def innerFunction():\n",
    "        print(text)\n",
    "\n",
    "    # Note we are returning function\n",
    "    # WITHOUT parenthesis\n",
    "    return innerFunction\n",
    "\n",
    "if __name__ == '__main__':\n",
    "    myFunction = outerFunction('Hey!')\n",
    "    myFunction()\n"
   ]
  },
  {
   "cell_type": "code",
   "execution_count": null,
   "id": "d204acad-9470-43a8-a462-f0af55ddc29f",
   "metadata": {},
   "outputs": [],
   "source": []
  }
 ],
 "metadata": {
  "kernelspec": {
   "display_name": "Python 3 (ipykernel)",
   "language": "python",
   "name": "python3"
  },
  "language_info": {
   "codemirror_mode": {
    "name": "ipython",
    "version": 3
   },
   "file_extension": ".py",
   "mimetype": "text/x-python",
   "name": "python",
   "nbconvert_exporter": "python",
   "pygments_lexer": "ipython3",
   "version": "3.10.6"
  }
 },
 "nbformat": 4,
 "nbformat_minor": 5
}
