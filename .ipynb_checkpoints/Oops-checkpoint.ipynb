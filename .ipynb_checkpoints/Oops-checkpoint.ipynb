{
 "cells": [
  {
   "cell_type": "markdown",
   "id": "86044c78-e186-48b9-adae-6c5c7f40ab01",
   "metadata": {},
   "source": [
    "# OOPS"
   ]
  },
  {
   "cell_type": "markdown",
   "id": "7c641151-f6dc-4fa9-a15d-570fce17b1ae",
   "metadata": {
    "tags": []
   },
   "source": [
    "### Decorator"
   ]
  },
  {
   "cell_type": "code",
   "execution_count": null,
   "id": "087eca0b-87f8-4098-b9c9-3979db87ae4b",
   "metadata": {},
   "outputs": [],
   "source": [
    "#Decorator, as can be noticed by the name, is like a designer that helps to modify a function. \n",
    "#The decorator can be said to be a modification to the external layer of function, as it does not change its structure. \n",
    "#A decorator takes a function and inserts some new functionality in it without changing the function itself"
   ]
  },
  {
   "cell_type": "code",
   "execution_count": 1,
   "id": "d0fedc8d-9cfe-44f9-bb53-11f9c9092337",
   "metadata": {},
   "outputs": [
    {
     "name": "stdout",
     "output_type": "stream",
     "text": [
      "Before function execution\n",
      "This is inside the function\n",
      "After function execution\n"
     ]
    }
   ],
   "source": [
    "#Example\n",
    "def inner1(func): \n",
    "    def inner2():\n",
    "        print(\"Before function execution\"); \n",
    "        func() \n",
    "        print(\"After function execution\")    \n",
    "    return inner2 \n",
    "\n",
    "@inner1\n",
    "def function_to_be_used(): \n",
    "    print(\"This is inside the function\") \n",
    "\n",
    "function_to_be_used()"
   ]
  },
  {
   "cell_type": "markdown",
   "id": "95fbd3cd-92ad-4936-9259-51277340c616",
   "metadata": {},
   "source": [
    "### Constructor"
   ]
  },
  {
   "cell_type": "code",
   "execution_count": 2,
   "id": "cb9e552a-65b6-40e3-8551-c2f3a2c4751a",
   "metadata": {},
   "outputs": [],
   "source": [
    "def __init__(self):\n",
    "    pass\n",
    "#     body of the constructor\n",
    "\n",
    "# Constructor in Python is used to assign values to the variables or data members of a class when an object is created.\n",
    "#The self keyword is used in the method to refer to the instance of the current class we are using.\n",
    "#The self keyword is passed as a parameter explicitly every time we define a method.\n",
    "    "
   ]
  },
  {
   "cell_type": "code",
   "execution_count": 3,
   "id": "b4b0207a-f69a-4518-a554-63c2d83195cd",
   "metadata": {},
   "outputs": [
    {
     "name": "stdout",
     "output_type": "stream",
     "text": [
      "John\n"
     ]
    }
   ],
   "source": [
    "#Example\n",
    "\n",
    "class Person:\n",
    "  def __init__(self, name, age):\n",
    "    self.name = name\n",
    "    self.age = age\n",
    "\n",
    "p1 = Person(\"John\", 36)\n",
    "print(p1.name)"
   ]
  },
  {
   "cell_type": "code",
   "execution_count": 4,
   "id": "ecb231a2-0c23-414c-856e-f7cf46a91b5f",
   "metadata": {},
   "outputs": [
    {
     "name": "stdout",
     "output_type": "stream",
     "text": [
      "255\n"
     ]
    }
   ],
   "source": [
    "class Employee:\n",
    "    no_of_leaves = 8\n",
    "\n",
    "    def __init__(self, aname, asalary, arole):\n",
    "        self.name = aname\n",
    "        self.salary = asalary\n",
    "        self.role = arole\n",
    "\n",
    "    def printdetails(self):\n",
    "        return f\"The Name is {self.name}. Salary is {self.salary} and role is {self.role}\"\n",
    "\n",
    "\n",
    "harry = Employee(\"Harry\", 255, \"Instructor\")\n",
    "\n",
    "# rohan = Employee()\n",
    "# harry.name = \"Harry\"\n",
    "# harry.salary = 455\n",
    "# harry.role = \"Instructor\"\n",
    "#\n",
    "# rohan.name = \"Rohan\"\n",
    "# rohan.salary = 4554\n",
    "# rohan.role = \"Student\"\n",
    "\n",
    "print(harry.salary)"
   ]
  },
  {
   "cell_type": "markdown",
   "id": "b21abdcd-9dd6-4261-b1d1-88b16ed44c40",
   "metadata": {},
   "source": [
    "### Abstraction and Encapsulation"
   ]
  },
  {
   "cell_type": "raw",
   "id": "de58f1f4-e4ab-48c0-bd42-8235a935de0f",
   "metadata": {},
   "source": [
    "\n",
    "https://www.codewithharry.com/videos/python-tutorials-for-absolute-beginners-59"
   ]
  },
  {
   "cell_type": "markdown",
   "id": "e7a33df6-9604-44bb-b4af-064bdebcd114",
   "metadata": {},
   "source": [
    "### Inheritance"
   ]
  },
  {
   "cell_type": "code",
   "execution_count": 1,
   "id": "619e4ec6-a41c-42a2-acc6-eee15e864962",
   "metadata": {},
   "outputs": [
    {
     "name": "stdout",
     "output_type": "stream",
     "text": [
      "9\n"
     ]
    }
   ],
   "source": [
    "class Employee:\n",
    "    no_of_leaves = 8\n",
    "    var = 8\n",
    "\n",
    "    def __init__(self, aname, asalary, arole):\n",
    "        self.name = aname\n",
    "        self.salary = asalary\n",
    "        self.role = arole\n",
    "\n",
    "    def printdetails(self):\n",
    "        return f\"The Name is {self.name}. Salary is {self.salary} and role is {self.role}\"\n",
    "\n",
    "    @classmethod\n",
    "    def change_leaves(cls, newleaves):\n",
    "        cls.no_of_leaves = newleaves\n",
    "\n",
    "    @classmethod\n",
    "    def from_dash(cls, string):\n",
    "        return cls(*string.split(\"-\"))\n",
    "\n",
    "    @staticmethod\n",
    "    def printgood(string):\n",
    "        print(\"This is good \" + string)\n",
    "\n",
    "class Player:\n",
    "    var = 9\n",
    "    no_of_games = 4\n",
    "    def __init__(self, name, game):\n",
    "        self.name = name\n",
    "        self.game =game\n",
    "\n",
    "    def printdetails(self):\n",
    "        return f\"The Name is {self.name}. Game is {self.game}\"\n",
    "\n",
    "class CoolProgramer(Player, Employee):\n",
    "\n",
    "    language = \"C++\"\n",
    "    def printlanguage(self):\n",
    "        print(self.language)\n",
    "\n",
    "harry = Employee(\"Harry\", 255, \"Instructor\")\n",
    "rohan = Employee(\"Rohan\", 455, \"Student\")\n",
    "\n",
    "shubham = Player(\"Shubham\", [\"Cricket\"])\n",
    "karan = CoolProgramer(\"Karan\",[\"Cricket\"])\n",
    "# det = karan.printdetails()\n",
    "# karan.printlanguage()\n",
    "# print(det)\n",
    "print(karan.var)"
   ]
  },
  {
   "cell_type": "markdown",
   "id": "3892904e-bd08-4002-b4bc-3772749c1ec2",
   "metadata": {},
   "source": [
    "### Super() and Overriding"
   ]
  },
  {
   "cell_type": "code",
   "execution_count": 2,
   "id": "59252469-4038-4a66-b9bb-8d7ed508a7bf",
   "metadata": {},
   "outputs": [],
   "source": [
    "# Overriding occurs when a derived class or child class has the same method that has already been defined in the base or parent class\n",
    "\n",
    "\n",
    "# When we want to call an already overridden method, then the use of the super function comes in.\n",
    "# What super does is it allows us to use the method of our superclass, which in the case of inheritance is the parent class. "
   ]
  },
  {
   "cell_type": "code",
   "execution_count": 4,
   "id": "a5059fe8-9d3d-4d63-afd2-48319439c0d0",
   "metadata": {},
   "outputs": [],
   "source": [
    "#Syntax of super()\n",
    "class Parent_Class(object):\n",
    "      def __init__(self):\n",
    "            pass\n",
    "\n",
    "class Child_Class(Parent_Class):\n",
    "     def __init__(self):\n",
    "           super().__init__()"
   ]
  },
  {
   "cell_type": "code",
   "execution_count": 2,
   "id": "873ae15a-69f4-49c3-bfdc-04611667b036",
   "metadata": {},
   "outputs": [],
   "source": [
    "#Example\n",
    "\n",
    "class A:\n",
    "    classvar1 = \"I am a class variable in class A\"\n",
    "    def __init__(self):\n",
    "        self.var1 = \"I am inside class A's constructor\"\n",
    "        self.classvar1 = \"Instance var in class A\"\n",
    "        self.special = \"Special\"\n",
    "\n",
    "class B(A):\n",
    "    classvar1 = \"I am in class B\"\n",
    "\n",
    "    def __init__(self):\n",
    "        self.var1 = \"I am inside class B's constructor\"\n",
    "        self.classvar1 = \"Instance var in class B\"\n",
    "        # super().__init__()\n",
    "        # print(super().classvar1)\n",
    "\n",
    "\n",
    "a = A()\n",
    "b = B()\n",
    "\n",
    "# print(b.special, b.var1, b.classvar1)"
   ]
  },
  {
   "cell_type": "markdown",
   "id": "730328bc-e783-4a93-9cbe-88dc5e042c51",
   "metadata": {},
   "source": [
    "### Dunder Methods"
   ]
  },
  {
   "cell_type": "code",
   "execution_count": 3,
   "id": "e1674ca1-2bce-4137-9ae6-1a6a0f20a1c4",
   "metadata": {},
   "outputs": [],
   "source": [
    "# Methods starting with a double underscore ( __ ) and ending with a double underscore ( __ ) represent dunder methods.\n",
    "# All the methods mention in python:\n",
    "# https://docs.python.org/2/library/operator.html"
   ]
  },
  {
   "cell_type": "code",
   "execution_count": 4,
   "id": "4d9492e8-cf56-4fca-9da9-0179ce14e56d",
   "metadata": {},
   "outputs": [
    {
     "name": "stdout",
     "output_type": "stream",
     "text": [
      "The Name is Harry. Salary is 345 and role is Programmer\n"
     ]
    }
   ],
   "source": [
    "class Employee:\n",
    "    no_of_leaves = 8\n",
    "\n",
    "    def __init__(self, aname, asalary, arole):\n",
    "        self.name = aname\n",
    "        self.salary = asalary\n",
    "        self.role = arole\n",
    "\n",
    "    def printdetails(self):\n",
    "        return f\"The Name is {self.name}. Salary is {self.salary} and role is {self.role}\"\n",
    "\n",
    "    @classmethod\n",
    "    def change_leaves(cls, newleaves):\n",
    "        cls.no_of_leaves = newleaves\n",
    "\n",
    "    def __add__(self, other):\n",
    "        return self.salary + other.salary\n",
    "\n",
    "    def __truediv__(self, other):\n",
    "        return self.salary / other.salary\n",
    "\n",
    "    def __repr__(self):\n",
    "        return f\"Employee('{self.name}', {self.salary}, '{self.role}')\"\n",
    "\n",
    "    def __str__(self):\n",
    "        return f\"The Name is {self.name}. Salary is {self.salary} and role is {self.role}\"\n",
    "\n",
    "emp1 =Employee(\"Harry\", 345, \"Programmer\")\n",
    "# emp2 =Employee(\"Rohan\", 55, \"Cleaner\")\n",
    "print(str(emp1))\n"
   ]
  },
  {
   "cell_type": "code",
   "execution_count": null,
   "id": "10efc612-a970-4977-9dc7-c9f4a7d688fc",
   "metadata": {},
   "outputs": [],
   "source": []
  }
 ],
 "metadata": {
  "kernelspec": {
   "display_name": "Python 3 (ipykernel)",
   "language": "python",
   "name": "python3"
  },
  "language_info": {
   "codemirror_mode": {
    "name": "ipython",
    "version": 3
   },
   "file_extension": ".py",
   "mimetype": "text/x-python",
   "name": "python",
   "nbconvert_exporter": "python",
   "pygments_lexer": "ipython3",
   "version": "3.10.6"
  }
 },
 "nbformat": 4,
 "nbformat_minor": 5
}
