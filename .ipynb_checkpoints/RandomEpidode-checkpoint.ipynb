{
 "cells": [
  {
   "cell_type": "code",
   "execution_count": 5,
   "id": "0e0f3f73-fe7d-4149-a095-52faf3b074f8",
   "metadata": {},
   "outputs": [
    {
     "name": "stdout",
     "output_type": "stream",
     "text": [
      "Enjoy!\n",
      "['1.mp4', '2.mp4', '3.mp4']\n"
     ]
    },
    {
     "data": {
      "text/plain": [
       "0"
      ]
     },
     "execution_count": 5,
     "metadata": {},
     "output_type": "execute_result"
    }
   ],
   "source": [
    "import os \n",
    "import random\n",
    "\n",
    "p = r'C:\\Users\\dell\\Desktop\\new'\n",
    "os.chdir(p)\n",
    "a = os.listdir(p)\n",
    "\n",
    "file_name = random.choice(a)\n",
    "\n",
    "print(\"Enjoy!\")\n",
    "print(a)\n",
    "os.system(\"start \" + file_name)"
   ]
  },
  {
   "cell_type": "code",
   "execution_count": null,
   "id": "23735dba-6c05-42fe-990d-7f662bce4207",
   "metadata": {},
   "outputs": [],
   "source": []
  }
 ],
 "metadata": {
  "kernelspec": {
   "display_name": "Python 3 (ipykernel)",
   "language": "python",
   "name": "python3"
  },
  "language_info": {
   "codemirror_mode": {
    "name": "ipython",
    "version": 3
   },
   "file_extension": ".py",
   "mimetype": "text/x-python",
   "name": "python",
   "nbconvert_exporter": "python",
   "pygments_lexer": "ipython3",
   "version": "3.10.6"
  }
 },
 "nbformat": 4,
 "nbformat_minor": 5
}
