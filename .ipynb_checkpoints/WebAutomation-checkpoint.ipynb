{
 "cells": [
  {
   "cell_type": "markdown",
   "id": "1f50edf0-9a8e-42a5-8069-97ec3af3a447",
   "metadata": {},
   "source": [
    "## Web Automation"
   ]
  },
  {
   "cell_type": "code",
   "execution_count": 9,
   "id": "8a8b61ac-b887-4fea-8b9e-f81d944547a6",
   "metadata": {},
   "outputs": [],
   "source": [
    "from selenium import webdriver\n",
    "from webdriver_manager.chrome import ChromeDriverManager\n",
    "from selenium.webdriver.common.keys import Keys"
   ]
  },
  {
   "cell_type": "code",
   "execution_count": 6,
   "id": "544e7710-e5f1-4273-8d69-803acbf05682",
   "metadata": {},
   "outputs": [
    {
     "name": "stderr",
     "output_type": "stream",
     "text": [
      "[WDM] - Downloading: 100%|████████████████████████████████████████████████████████| 6.21M/6.21M [00:00<00:00, 22.3MB/s]\n",
      "C:\\Users\\dell\\AppData\\Local\\Temp\\ipykernel_2924\\1889325130.py:1: DeprecationWarning: executable_path has been deprecated, please pass in a Service object\n",
      "  chrome = webdriver.Chrome(ChromeDriverManager().install())\n"
     ]
    }
   ],
   "source": [
    "chrome = webdriver.Chrome(ChromeDriverManager().install())"
   ]
  },
  {
   "cell_type": "code",
   "execution_count": 7,
   "id": "9490865f-649a-4397-a6c2-7bd5fc59f121",
   "metadata": {},
   "outputs": [],
   "source": [
    "chrome.get(\"https://web.whatsapp.com\")"
   ]
  },
  {
   "cell_type": "code",
   "execution_count": 12,
   "id": "c0e0e614-2356-4ec1-9850-b045a5800145",
   "metadata": {},
   "outputs": [
    {
     "ename": "AttributeError",
     "evalue": "'WebDriver' object has no attribute 'find_element_by_class_name'",
     "output_type": "error",
     "traceback": [
      "\u001b[1;31m---------------------------------------------------------------------------\u001b[0m",
      "\u001b[1;31mAttributeError\u001b[0m                            Traceback (most recent call last)",
      "Input \u001b[1;32mIn [12]\u001b[0m, in \u001b[0;36m<cell line: 1>\u001b[1;34m()\u001b[0m\n\u001b[1;32m----> 1\u001b[0m search_box \u001b[38;5;241m=\u001b[39m \u001b[43mchrome\u001b[49m\u001b[38;5;241;43m.\u001b[39;49m\u001b[43mfind_element_by_class_name\u001b[49m(\u001b[38;5;124m\"\u001b[39m\u001b[38;5;124m_13NKt\u001b[39m\u001b[38;5;124m\"\u001b[39m)\n\u001b[0;32m      2\u001b[0m search_box\u001b[38;5;241m.\u001b[39msend_keys(\u001b[38;5;124m\"\u001b[39m\u001b[38;5;124mAnu Jio\u001b[39m\u001b[38;5;124m\"\u001b[39m)\n\u001b[0;32m      3\u001b[0m search_box\u001b[38;5;241m.\u001b[39msend_keys(Keys\u001b[38;5;241m.\u001b[39mENTER)\n",
      "\u001b[1;31mAttributeError\u001b[0m: 'WebDriver' object has no attribute 'find_element_by_class_name'"
     ]
    }
   ],
   "source": [
    "search_box = chrome.find_element_by_class_name(\"_13NKt\")\n",
    "search_box.send_keys(\"Anu Jio\")\n",
    "search_box.send_keys(Keys.ENTER)"
   ]
  },
  {
   "cell_type": "code",
   "execution_count": null,
   "id": "13e92050-597d-4eb7-9cdb-ea5997dece03",
   "metadata": {},
   "outputs": [],
   "source": []
  }
 ],
 "metadata": {
  "kernelspec": {
   "display_name": "Python 3 (ipykernel)",
   "language": "python",
   "name": "python3"
  },
  "language_info": {
   "codemirror_mode": {
    "name": "ipython",
    "version": 3
   },
   "file_extension": ".py",
   "mimetype": "text/x-python",
   "name": "python",
   "nbconvert_exporter": "python",
   "pygments_lexer": "ipython3",
   "version": "3.10.6"
  }
 },
 "nbformat": 4,
 "nbformat_minor": 5
}
