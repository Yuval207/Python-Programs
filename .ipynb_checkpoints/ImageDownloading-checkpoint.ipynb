{
 "cells": [
  {
   "cell_type": "markdown",
   "id": "e6fb87b2-a17c-4c31-b442-955714d68262",
   "metadata": {},
   "source": [
    "## Facebook Graph API"
   ]
  },
  {
   "cell_type": "code",
   "execution_count": 4,
   "id": "c4b78955-fa02-47f3-b706-22a6c2fbad90",
   "metadata": {},
   "outputs": [],
   "source": [
    "import os"
   ]
  },
  {
   "cell_type": "code",
   "execution_count": 5,
   "id": "bfd8072c-d999-422c-9203-0283b80fb84f",
   "metadata": {},
   "outputs": [],
   "source": [
    "import requests"
   ]
  },
  {
   "cell_type": "code",
   "execution_count": 6,
   "id": "10f23fd1-5051-48d5-b973-1f93e6fb8536",
   "metadata": {},
   "outputs": [],
   "source": [
    "url = \"https://graph.facebook.com/{}/picture?type=large\""
   ]
  },
  {
   "cell_type": "code",
   "execution_count": 7,
   "id": "192acfee-8d3c-4e2c-a844-07543a43d08c",
   "metadata": {
    "tags": []
   },
   "outputs": [],
   "source": [
    "if not \"fb_pictures\" in os.listdir():\n",
    "    os.mkdir(\"fb_pictures\")\n",
    "\n",
    "\n",
    "for i in range(4, 20):\n",
    "    result = requests.get(url.format(i))\n",
    "    with open(\"fb_pictures/{}_img.jpg\".format(i), \"wb\") as file:\n",
    "        file.write(result.content)"
   ]
  },
  {
   "cell_type": "code",
   "execution_count": null,
   "id": "d516f55d-7de0-4e43-8d0b-5026740dbee4",
   "metadata": {},
   "outputs": [],
   "source": []
  }
 ],
 "metadata": {
  "kernelspec": {
   "display_name": "Python 3 (ipykernel)",
   "language": "python",
   "name": "python3"
  },
  "language_info": {
   "codemirror_mode": {
    "name": "ipython",
    "version": 3
   },
   "file_extension": ".py",
   "mimetype": "text/x-python",
   "name": "python",
   "nbconvert_exporter": "python",
   "pygments_lexer": "ipython3",
   "version": "3.10.6"
  }
 },
 "nbformat": 4,
 "nbformat_minor": 5
}
