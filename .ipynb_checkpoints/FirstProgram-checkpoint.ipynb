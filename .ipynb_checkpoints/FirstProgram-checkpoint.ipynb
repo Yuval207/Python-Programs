{
 "cells": [
  {
   "cell_type": "code",
   "execution_count": 1,
   "id": "34965eff",
   "metadata": {},
   "outputs": [
    {
     "name": "stdout",
     "output_type": "stream",
     "text": [
      "Hello World!\n"
     ]
    }
   ],
   "source": [
    "print(\"Hello World!\")"
   ]
  },
  {
   "cell_type": "code",
   "execution_count": 2,
   "id": "3b4d3f6a",
   "metadata": {},
   "outputs": [
    {
     "data": {
      "text/plain": [
       "int"
      ]
     },
     "execution_count": 2,
     "metadata": {},
     "output_type": "execute_result"
    }
   ],
   "source": [
    "a = 20\n",
    "type(a)"
   ]
  },
  {
   "cell_type": "code",
   "execution_count": 4,
   "id": "ce2a4724",
   "metadata": {},
   "outputs": [],
   "source": [
    "a = \"Yuval\""
   ]
  },
  {
   "cell_type": "code",
   "execution_count": 5,
   "id": "c4cc8bb0",
   "metadata": {},
   "outputs": [
    {
     "name": "stdout",
     "output_type": "stream",
     "text": [
      "Yuval\n"
     ]
    },
    {
     "data": {
      "text/plain": [
       "str"
      ]
     },
     "execution_count": 5,
     "metadata": {},
     "output_type": "execute_result"
    }
   ],
   "source": [
    "print(a)\n",
    "type(a)"
   ]
  },
  {
   "cell_type": "code",
   "execution_count": 6,
   "id": "0e1a511e",
   "metadata": {},
   "outputs": [],
   "source": [
    "#sets: It is a type of mutable datatype"
   ]
  },
  {
   "cell_type": "code",
   "execution_count": 7,
   "id": "7e4d4afa",
   "metadata": {},
   "outputs": [],
   "source": [
    "b = {34, 34, 54}"
   ]
  },
  {
   "cell_type": "code",
   "execution_count": 8,
   "id": "9ef7e468",
   "metadata": {},
   "outputs": [
    {
     "data": {
      "text/plain": [
       "{34, 54}"
      ]
     },
     "execution_count": 8,
     "metadata": {},
     "output_type": "execute_result"
    }
   ],
   "source": [
    "b"
   ]
  },
  {
   "cell_type": "code",
   "execution_count": null,
   "id": "94a2280a",
   "metadata": {},
   "outputs": [],
   "source": [
    "#In sets duplicate elements are removed"
   ]
  }
 ],
 "metadata": {
  "kernelspec": {
   "display_name": "Python 3 (ipykernel)",
   "language": "python",
   "name": "python3"
  },
  "language_info": {
   "codemirror_mode": {
    "name": "ipython",
    "version": 3
   },
   "file_extension": ".py",
   "mimetype": "text/x-python",
   "name": "python",
   "nbconvert_exporter": "python",
   "pygments_lexer": "ipython3",
   "version": "3.9.12"
  }
 },
 "nbformat": 4,
 "nbformat_minor": 5
}
