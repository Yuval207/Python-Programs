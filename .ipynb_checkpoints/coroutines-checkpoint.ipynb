{
 "cells": [
  {
   "cell_type": "markdown",
   "id": "beba6b63-b36a-496c-821a-54d2426858dc",
   "metadata": {},
   "source": [
    "## Coroutines"
   ]
  },
  {
   "cell_type": "code",
   "execution_count": 1,
   "id": "cc44257a-bae7-48f6-be26-46d2ea910a44",
   "metadata": {},
   "outputs": [],
   "source": [
    "# Coroutines are mostly used in cases of time-consuming programs,such as tasks related to machine learning or deep learning algos,\n",
    "# or in cases where the program has to read a file containing a large number of data.\n",
    "# In such situations, we do not want the program to read the file or data again and again, \n",
    "# so we use coroutines to make the program more efficient and faster. \n",
    "# Coroutines run endlessly in a program because they use a while loop with a true or 1 condition, so it may run until infinite time. \n",
    "# Even after yielding the value to the caller, it still awaits further instruction or calls. \n",
    "# We have to stop the execution of the coroutine by calling the coroutine.close() function."
   ]
  },
  {
   "cell_type": "code",
   "execution_count": 2,
   "id": "d449b261-dd13-4eec-b22a-f7ab6484cad4",
   "metadata": {},
   "outputs": [],
   "source": [
    "#Defining a coroutine\n",
    "def myfunc():\n",
    "    while True:\n",
    "        value = (yield)"
   ]
  },
  {
   "cell_type": "code",
   "execution_count": 4,
   "id": "e905c965-41c0-4390-973b-3388b869cfb3",
   "metadata": {},
   "outputs": [
    {
     "name": "stdout",
     "output_type": "stream",
     "text": [
      "Code With Harry\n",
      "Python\n",
      " Tutorial \n"
     ]
    }
   ],
   "source": [
    "#Coroutine Execution\n",
    "# Execution is the same as of a generator. When you call a coroutine, nothing happens. \n",
    "# They only run in response to the next() and send() methods. \n",
    "# Coroutine requires the use of the next statement first so it may start its execution. \n",
    "# Without a next(), it will not start executing. \n",
    "# We can search a coroutine by sending it the keywords as input using object name along with send(). \n",
    "# The keywords to be searched are send inside the parenthesis. \n",
    "\n",
    "# When we run the next() function the first time, the coroutine executes and waits for new input. \n",
    "# After the input is sent to it using the send() function, it executes it and again waits for next input, \n",
    "# and the process goes on like this because we have set the while loop as true, so it will never exit its execution. \n",
    "# In order to make the execution stop, we have to close the coroutine using coroutine.close() function.\n",
    "\n",
    "# send() — used to send data to coroutine\n",
    "#  close() — to close the coroutine\n",
    "\n",
    "def myfunc():\n",
    "    print(\"Code With Harry\")\n",
    "    while True:\n",
    "        value = (yield)\n",
    "        print(value)\n",
    "\n",
    "coroutine =myfunc()\n",
    "next(coroutine)\n",
    "coroutine.send(\"Python\")\n",
    "coroutine.send(\" Tutorial \")\n",
    "coroutine.close()"
   ]
  },
  {
   "cell_type": "code",
   "execution_count": 7,
   "id": "d52c5de1-b497-45e6-9a58-13960645a31d",
   "metadata": {},
   "outputs": [
    {
     "name": "stdout",
     "output_type": "stream",
     "text": [
      "search started\n",
      "Next method run\n",
      "Your text is in the book\n"
     ]
    }
   ],
   "source": [
    "#Example\n",
    "def searcher():\n",
    "    import time\n",
    "    # Some 4 seconds time consuming task\n",
    "    book = \"This is a book on harry and code with harry and good\"\n",
    "    time.sleep(4)\n",
    "\n",
    "    while True:\n",
    "        text = (yield)\n",
    "        if text in book:\n",
    "            print(\"Your text is in the book\")\n",
    "        else:\n",
    "            print(\"Text is not in the book\")\n",
    "\n",
    "search = searcher()\n",
    "print(\"search started\")\n",
    "next(search)\n",
    "print(\"Next method run\")\n",
    "search.send(\"harry\")\n",
    "\n",
    "# search.close()\n",
    "# search.send(\"harry\")\n",
    "# input(\"press any key\")\n",
    "# search.send(\"harry and\")\n",
    "# input(\"press any key\")\n",
    "# search.send(\"thi si\")\n",
    "# input(\"press any key\")\n",
    "# search.send(\"joker\")\n",
    "# input(\"press any key\")\n",
    "# search.send(\"like this video\")\n",
    "\n"
   ]
  },
  {
   "cell_type": "code",
   "execution_count": null,
   "id": "c299705b-24aa-452a-b46e-40942175b6ea",
   "metadata": {},
   "outputs": [],
   "source": []
  }
 ],
 "metadata": {
  "kernelspec": {
   "display_name": "Python 3 (ipykernel)",
   "language": "python",
   "name": "python3"
  },
  "language_info": {
   "codemirror_mode": {
    "name": "ipython",
    "version": 3
   },
   "file_extension": ".py",
   "mimetype": "text/x-python",
   "name": "python",
   "nbconvert_exporter": "python",
   "pygments_lexer": "ipython3",
   "version": "3.10.6"
  }
 },
 "nbformat": 4,
 "nbformat_minor": 5
}
